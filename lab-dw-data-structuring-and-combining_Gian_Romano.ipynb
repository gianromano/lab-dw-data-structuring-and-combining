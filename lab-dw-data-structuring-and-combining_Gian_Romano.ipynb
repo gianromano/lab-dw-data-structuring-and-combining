{
 "cells": [
  {
   "cell_type": "markdown",
   "id": "25d7736c-ba17-4aff-b6bb-66eba20fbf4e",
   "metadata": {
    "id": "25d7736c-ba17-4aff-b6bb-66eba20fbf4e"
   },
   "source": [
    "# Lab | Data Structuring and Combining Data"
   ]
  },
  {
   "cell_type": "markdown",
   "id": "a2cdfc70-44c8-478c-81e7-2bc43fdf4986",
   "metadata": {
    "id": "a2cdfc70-44c8-478c-81e7-2bc43fdf4986"
   },
   "source": [
    "## Challenge 1: Combining & Cleaning Data\n",
    "\n",
    "In this challenge, we will be working with the customer data from an insurance company, as we did in the two previous labs. The data can be found here:\n",
    "- https://raw.githubusercontent.com/data-bootcamp-v4/data/main/file1.csv\n",
    "\n",
    "But this time, we got new data, which can be found in the following 2 CSV files located at the links below.\n",
    "\n",
    "- https://raw.githubusercontent.com/data-bootcamp-v4/data/main/file2.csv\n",
    "- https://raw.githubusercontent.com/data-bootcamp-v4/data/main/file3.csv\n",
    "\n",
    "Note that you'll need to clean and format the new data.\n",
    "\n",
    "Observation:\n",
    "- One option is to first combine the three datasets and then apply the cleaning function to the new combined dataset\n",
    "- Another option would be to read the clean file you saved in the previous lab, and just clean the two new files and concatenate the three clean datasets"
   ]
  },
  {
   "cell_type": "code",
   "execution_count": 67,
   "id": "492d06e3-92c7-4105-ac72-536db98d3244",
   "metadata": {
    "id": "492d06e3-92c7-4105-ac72-536db98d3244"
   },
   "outputs": [],
   "source": [
    "# Your code goes here\n",
    "import pandas as pd\n",
    "url_1 = 'https://raw.githubusercontent.com/data-bootcamp-v4/data/main/file1.csv'\n",
    "url_2 = 'https://raw.githubusercontent.com/data-bootcamp-v4/data/main/file2.csv'\n",
    "url_3 = 'https://raw.githubusercontent.com/data-bootcamp-v4/data/main/file3.csv'\n",
    "df_1 = pd.read_csv(url_1)\n",
    "df_2 = pd.read_csv(url_2)\n",
    "df_3 = pd.read_csv(url_3)"
   ]
  },
  {
   "cell_type": "markdown",
   "id": "32c48368-7a07-4c0f-8346-2021d1ec9bf6",
   "metadata": {},
   "source": [
    "##### Option 1: first combine the three datasets and then apply the cleaning function to the new combined dataset"
   ]
  },
  {
   "cell_type": "code",
   "execution_count": 68,
   "id": "e4d40d32-91e2-4baa-b4a3-5599b8f8f3fd",
   "metadata": {},
   "outputs": [
    {
     "data": {
      "text/html": [
       "<div>\n",
       "<style scoped>\n",
       "    .dataframe tbody tr th:only-of-type {\n",
       "        vertical-align: middle;\n",
       "    }\n",
       "\n",
       "    .dataframe tbody tr th {\n",
       "        vertical-align: top;\n",
       "    }\n",
       "\n",
       "    .dataframe thead th {\n",
       "        text-align: right;\n",
       "    }\n",
       "</style>\n",
       "<table border=\"1\" class=\"dataframe\">\n",
       "  <thead>\n",
       "    <tr style=\"text-align: right;\">\n",
       "      <th></th>\n",
       "      <th>Customer</th>\n",
       "      <th>ST</th>\n",
       "      <th>GENDER</th>\n",
       "      <th>Education</th>\n",
       "      <th>Customer Lifetime Value</th>\n",
       "      <th>Income</th>\n",
       "      <th>Monthly Premium Auto</th>\n",
       "      <th>Number of Open Complaints</th>\n",
       "      <th>Policy Type</th>\n",
       "      <th>Vehicle Class</th>\n",
       "      <th>Total Claim Amount</th>\n",
       "    </tr>\n",
       "  </thead>\n",
       "  <tbody>\n",
       "    <tr>\n",
       "      <th>0</th>\n",
       "      <td>RB50392</td>\n",
       "      <td>Washington</td>\n",
       "      <td>NaN</td>\n",
       "      <td>Master</td>\n",
       "      <td>NaN</td>\n",
       "      <td>0.0</td>\n",
       "      <td>1000.0</td>\n",
       "      <td>1/0/00</td>\n",
       "      <td>Personal Auto</td>\n",
       "      <td>Four-Door Car</td>\n",
       "      <td>2.704934</td>\n",
       "    </tr>\n",
       "    <tr>\n",
       "      <th>1</th>\n",
       "      <td>QZ44356</td>\n",
       "      <td>Arizona</td>\n",
       "      <td>F</td>\n",
       "      <td>Bachelor</td>\n",
       "      <td>697953.59%</td>\n",
       "      <td>0.0</td>\n",
       "      <td>94.0</td>\n",
       "      <td>1/0/00</td>\n",
       "      <td>Personal Auto</td>\n",
       "      <td>Four-Door Car</td>\n",
       "      <td>1131.464935</td>\n",
       "    </tr>\n",
       "    <tr>\n",
       "      <th>2</th>\n",
       "      <td>AI49188</td>\n",
       "      <td>Nevada</td>\n",
       "      <td>F</td>\n",
       "      <td>Bachelor</td>\n",
       "      <td>1288743.17%</td>\n",
       "      <td>48767.0</td>\n",
       "      <td>108.0</td>\n",
       "      <td>1/0/00</td>\n",
       "      <td>Personal Auto</td>\n",
       "      <td>Two-Door Car</td>\n",
       "      <td>566.472247</td>\n",
       "    </tr>\n",
       "    <tr>\n",
       "      <th>3</th>\n",
       "      <td>WW63253</td>\n",
       "      <td>California</td>\n",
       "      <td>M</td>\n",
       "      <td>Bachelor</td>\n",
       "      <td>764586.18%</td>\n",
       "      <td>0.0</td>\n",
       "      <td>106.0</td>\n",
       "      <td>1/0/00</td>\n",
       "      <td>Corporate Auto</td>\n",
       "      <td>SUV</td>\n",
       "      <td>529.881344</td>\n",
       "    </tr>\n",
       "    <tr>\n",
       "      <th>4</th>\n",
       "      <td>GA49547</td>\n",
       "      <td>Washington</td>\n",
       "      <td>M</td>\n",
       "      <td>High School or Below</td>\n",
       "      <td>536307.65%</td>\n",
       "      <td>36357.0</td>\n",
       "      <td>68.0</td>\n",
       "      <td>1/0/00</td>\n",
       "      <td>Personal Auto</td>\n",
       "      <td>Four-Door Car</td>\n",
       "      <td>17.269323</td>\n",
       "    </tr>\n",
       "    <tr>\n",
       "      <th>...</th>\n",
       "      <td>...</td>\n",
       "      <td>...</td>\n",
       "      <td>...</td>\n",
       "      <td>...</td>\n",
       "      <td>...</td>\n",
       "      <td>...</td>\n",
       "      <td>...</td>\n",
       "      <td>...</td>\n",
       "      <td>...</td>\n",
       "      <td>...</td>\n",
       "      <td>...</td>\n",
       "    </tr>\n",
       "    <tr>\n",
       "      <th>4003</th>\n",
       "      <td>NaN</td>\n",
       "      <td>NaN</td>\n",
       "      <td>NaN</td>\n",
       "      <td>NaN</td>\n",
       "      <td>NaN</td>\n",
       "      <td>NaN</td>\n",
       "      <td>NaN</td>\n",
       "      <td>NaN</td>\n",
       "      <td>NaN</td>\n",
       "      <td>NaN</td>\n",
       "      <td>NaN</td>\n",
       "    </tr>\n",
       "    <tr>\n",
       "      <th>4004</th>\n",
       "      <td>NaN</td>\n",
       "      <td>NaN</td>\n",
       "      <td>NaN</td>\n",
       "      <td>NaN</td>\n",
       "      <td>NaN</td>\n",
       "      <td>NaN</td>\n",
       "      <td>NaN</td>\n",
       "      <td>NaN</td>\n",
       "      <td>NaN</td>\n",
       "      <td>NaN</td>\n",
       "      <td>NaN</td>\n",
       "    </tr>\n",
       "    <tr>\n",
       "      <th>4005</th>\n",
       "      <td>NaN</td>\n",
       "      <td>NaN</td>\n",
       "      <td>NaN</td>\n",
       "      <td>NaN</td>\n",
       "      <td>NaN</td>\n",
       "      <td>NaN</td>\n",
       "      <td>NaN</td>\n",
       "      <td>NaN</td>\n",
       "      <td>NaN</td>\n",
       "      <td>NaN</td>\n",
       "      <td>NaN</td>\n",
       "    </tr>\n",
       "    <tr>\n",
       "      <th>4006</th>\n",
       "      <td>NaN</td>\n",
       "      <td>NaN</td>\n",
       "      <td>NaN</td>\n",
       "      <td>NaN</td>\n",
       "      <td>NaN</td>\n",
       "      <td>NaN</td>\n",
       "      <td>NaN</td>\n",
       "      <td>NaN</td>\n",
       "      <td>NaN</td>\n",
       "      <td>NaN</td>\n",
       "      <td>NaN</td>\n",
       "    </tr>\n",
       "    <tr>\n",
       "      <th>4007</th>\n",
       "      <td>NaN</td>\n",
       "      <td>NaN</td>\n",
       "      <td>NaN</td>\n",
       "      <td>NaN</td>\n",
       "      <td>NaN</td>\n",
       "      <td>NaN</td>\n",
       "      <td>NaN</td>\n",
       "      <td>NaN</td>\n",
       "      <td>NaN</td>\n",
       "      <td>NaN</td>\n",
       "      <td>NaN</td>\n",
       "    </tr>\n",
       "  </tbody>\n",
       "</table>\n",
       "<p>4008 rows × 11 columns</p>\n",
       "</div>"
      ],
      "text/plain": [
       "     Customer          ST GENDER             Education  \\\n",
       "0     RB50392  Washington    NaN                Master   \n",
       "1     QZ44356     Arizona      F              Bachelor   \n",
       "2     AI49188      Nevada      F              Bachelor   \n",
       "3     WW63253  California      M              Bachelor   \n",
       "4     GA49547  Washington      M  High School or Below   \n",
       "...       ...         ...    ...                   ...   \n",
       "4003      NaN         NaN    NaN                   NaN   \n",
       "4004      NaN         NaN    NaN                   NaN   \n",
       "4005      NaN         NaN    NaN                   NaN   \n",
       "4006      NaN         NaN    NaN                   NaN   \n",
       "4007      NaN         NaN    NaN                   NaN   \n",
       "\n",
       "     Customer Lifetime Value   Income  Monthly Premium Auto  \\\n",
       "0                        NaN      0.0                1000.0   \n",
       "1                 697953.59%      0.0                  94.0   \n",
       "2                1288743.17%  48767.0                 108.0   \n",
       "3                 764586.18%      0.0                 106.0   \n",
       "4                 536307.65%  36357.0                  68.0   \n",
       "...                      ...      ...                   ...   \n",
       "4003                     NaN      NaN                   NaN   \n",
       "4004                     NaN      NaN                   NaN   \n",
       "4005                     NaN      NaN                   NaN   \n",
       "4006                     NaN      NaN                   NaN   \n",
       "4007                     NaN      NaN                   NaN   \n",
       "\n",
       "     Number of Open Complaints     Policy Type  Vehicle Class  \\\n",
       "0                       1/0/00   Personal Auto  Four-Door Car   \n",
       "1                       1/0/00   Personal Auto  Four-Door Car   \n",
       "2                       1/0/00   Personal Auto   Two-Door Car   \n",
       "3                       1/0/00  Corporate Auto            SUV   \n",
       "4                       1/0/00   Personal Auto  Four-Door Car   \n",
       "...                        ...             ...            ...   \n",
       "4003                       NaN             NaN            NaN   \n",
       "4004                       NaN             NaN            NaN   \n",
       "4005                       NaN             NaN            NaN   \n",
       "4006                       NaN             NaN            NaN   \n",
       "4007                       NaN             NaN            NaN   \n",
       "\n",
       "      Total Claim Amount  \n",
       "0               2.704934  \n",
       "1            1131.464935  \n",
       "2             566.472247  \n",
       "3             529.881344  \n",
       "4              17.269323  \n",
       "...                  ...  \n",
       "4003                 NaN  \n",
       "4004                 NaN  \n",
       "4005                 NaN  \n",
       "4006                 NaN  \n",
       "4007                 NaN  \n",
       "\n",
       "[4008 rows x 11 columns]"
      ]
     },
     "execution_count": 68,
     "metadata": {},
     "output_type": "execute_result"
    }
   ],
   "source": [
    "df_1"
   ]
  },
  {
   "cell_type": "code",
   "execution_count": 69,
   "id": "f21bc553-2a3b-485d-86a6-5b739090dd96",
   "metadata": {},
   "outputs": [
    {
     "data": {
      "text/plain": [
       "Index(['Customer', 'ST', 'GENDER', 'Education', 'Customer Lifetime Value',\n",
       "       'Income', 'Monthly Premium Auto', 'Number of Open Complaints',\n",
       "       'Policy Type', 'Vehicle Class', 'Total Claim Amount'],\n",
       "      dtype='object')"
      ]
     },
     "execution_count": 69,
     "metadata": {},
     "output_type": "execute_result"
    }
   ],
   "source": [
    "df_1.columns"
   ]
  },
  {
   "cell_type": "code",
   "execution_count": 70,
   "id": "6813e858-fef9-48c4-bc56-88add44bda51",
   "metadata": {},
   "outputs": [],
   "source": [
    "df_1.columns = df_1.columns.str.replace(\" \",\"_\")"
   ]
  },
  {
   "cell_type": "code",
   "execution_count": 71,
   "id": "b94c11f4-e345-470e-9c4c-d4215901c7ce",
   "metadata": {},
   "outputs": [],
   "source": [
    "df_1.rename(columns={'ST': 'State'}, inplace=True)"
   ]
  },
  {
   "cell_type": "code",
   "execution_count": 72,
   "id": "90a55617-b2ab-46e1-80d0-e601a69566d7",
   "metadata": {},
   "outputs": [],
   "source": [
    "df_1.rename(columns={'GENDER': 'Gender'}, inplace=True)"
   ]
  },
  {
   "cell_type": "code",
   "execution_count": 73,
   "id": "c8f3de22-7abf-4517-aa15-382cd2352ff4",
   "metadata": {},
   "outputs": [
    {
     "data": {
      "text/plain": [
       "Index(['Customer', 'State', 'Gender', 'Education', 'Customer_Lifetime_Value',\n",
       "       'Income', 'Monthly_Premium_Auto', 'Number_of_Open_Complaints',\n",
       "       'Policy_Type', 'Vehicle_Class', 'Total_Claim_Amount'],\n",
       "      dtype='object')"
      ]
     },
     "execution_count": 73,
     "metadata": {},
     "output_type": "execute_result"
    }
   ],
   "source": [
    "df_1.columns"
   ]
  },
  {
   "cell_type": "code",
   "execution_count": 74,
   "id": "3bfc8ba0-88b6-4d50-a4d1-7fc9bd4126a5",
   "metadata": {},
   "outputs": [
    {
     "data": {
      "text/html": [
       "<div>\n",
       "<style scoped>\n",
       "    .dataframe tbody tr th:only-of-type {\n",
       "        vertical-align: middle;\n",
       "    }\n",
       "\n",
       "    .dataframe tbody tr th {\n",
       "        vertical-align: top;\n",
       "    }\n",
       "\n",
       "    .dataframe thead th {\n",
       "        text-align: right;\n",
       "    }\n",
       "</style>\n",
       "<table border=\"1\" class=\"dataframe\">\n",
       "  <thead>\n",
       "    <tr style=\"text-align: right;\">\n",
       "      <th></th>\n",
       "      <th>Customer</th>\n",
       "      <th>ST</th>\n",
       "      <th>GENDER</th>\n",
       "      <th>Education</th>\n",
       "      <th>Customer Lifetime Value</th>\n",
       "      <th>Income</th>\n",
       "      <th>Monthly Premium Auto</th>\n",
       "      <th>Number of Open Complaints</th>\n",
       "      <th>Total Claim Amount</th>\n",
       "      <th>Policy Type</th>\n",
       "      <th>Vehicle Class</th>\n",
       "    </tr>\n",
       "  </thead>\n",
       "  <tbody>\n",
       "    <tr>\n",
       "      <th>0</th>\n",
       "      <td>GS98873</td>\n",
       "      <td>Arizona</td>\n",
       "      <td>F</td>\n",
       "      <td>Bachelor</td>\n",
       "      <td>323912.47%</td>\n",
       "      <td>16061</td>\n",
       "      <td>88</td>\n",
       "      <td>1/0/00</td>\n",
       "      <td>633.600000</td>\n",
       "      <td>Personal Auto</td>\n",
       "      <td>Four-Door Car</td>\n",
       "    </tr>\n",
       "    <tr>\n",
       "      <th>1</th>\n",
       "      <td>CW49887</td>\n",
       "      <td>California</td>\n",
       "      <td>F</td>\n",
       "      <td>Master</td>\n",
       "      <td>462680.11%</td>\n",
       "      <td>79487</td>\n",
       "      <td>114</td>\n",
       "      <td>1/0/00</td>\n",
       "      <td>547.200000</td>\n",
       "      <td>Special Auto</td>\n",
       "      <td>SUV</td>\n",
       "    </tr>\n",
       "    <tr>\n",
       "      <th>2</th>\n",
       "      <td>MY31220</td>\n",
       "      <td>California</td>\n",
       "      <td>F</td>\n",
       "      <td>College</td>\n",
       "      <td>899704.02%</td>\n",
       "      <td>54230</td>\n",
       "      <td>112</td>\n",
       "      <td>1/0/00</td>\n",
       "      <td>537.600000</td>\n",
       "      <td>Personal Auto</td>\n",
       "      <td>Two-Door Car</td>\n",
       "    </tr>\n",
       "    <tr>\n",
       "      <th>3</th>\n",
       "      <td>UH35128</td>\n",
       "      <td>Oregon</td>\n",
       "      <td>F</td>\n",
       "      <td>College</td>\n",
       "      <td>2580706.30%</td>\n",
       "      <td>71210</td>\n",
       "      <td>214</td>\n",
       "      <td>1/1/00</td>\n",
       "      <td>1027.200000</td>\n",
       "      <td>Personal Auto</td>\n",
       "      <td>Luxury Car</td>\n",
       "    </tr>\n",
       "    <tr>\n",
       "      <th>4</th>\n",
       "      <td>WH52799</td>\n",
       "      <td>Arizona</td>\n",
       "      <td>F</td>\n",
       "      <td>College</td>\n",
       "      <td>380812.21%</td>\n",
       "      <td>94903</td>\n",
       "      <td>94</td>\n",
       "      <td>1/0/00</td>\n",
       "      <td>451.200000</td>\n",
       "      <td>Corporate Auto</td>\n",
       "      <td>Two-Door Car</td>\n",
       "    </tr>\n",
       "    <tr>\n",
       "      <th>...</th>\n",
       "      <td>...</td>\n",
       "      <td>...</td>\n",
       "      <td>...</td>\n",
       "      <td>...</td>\n",
       "      <td>...</td>\n",
       "      <td>...</td>\n",
       "      <td>...</td>\n",
       "      <td>...</td>\n",
       "      <td>...</td>\n",
       "      <td>...</td>\n",
       "      <td>...</td>\n",
       "    </tr>\n",
       "    <tr>\n",
       "      <th>991</th>\n",
       "      <td>HV85198</td>\n",
       "      <td>Arizona</td>\n",
       "      <td>M</td>\n",
       "      <td>Master</td>\n",
       "      <td>847141.75%</td>\n",
       "      <td>63513</td>\n",
       "      <td>70</td>\n",
       "      <td>1/0/00</td>\n",
       "      <td>185.667213</td>\n",
       "      <td>Personal Auto</td>\n",
       "      <td>Four-Door Car</td>\n",
       "    </tr>\n",
       "    <tr>\n",
       "      <th>992</th>\n",
       "      <td>BS91566</td>\n",
       "      <td>Arizona</td>\n",
       "      <td>F</td>\n",
       "      <td>College</td>\n",
       "      <td>543121.91%</td>\n",
       "      <td>58161</td>\n",
       "      <td>68</td>\n",
       "      <td>1/0/00</td>\n",
       "      <td>140.747286</td>\n",
       "      <td>Corporate Auto</td>\n",
       "      <td>Four-Door Car</td>\n",
       "    </tr>\n",
       "    <tr>\n",
       "      <th>993</th>\n",
       "      <td>IL40123</td>\n",
       "      <td>Nevada</td>\n",
       "      <td>F</td>\n",
       "      <td>College</td>\n",
       "      <td>568964.41%</td>\n",
       "      <td>83640</td>\n",
       "      <td>70</td>\n",
       "      <td>1/0/00</td>\n",
       "      <td>471.050488</td>\n",
       "      <td>Corporate Auto</td>\n",
       "      <td>Two-Door Car</td>\n",
       "    </tr>\n",
       "    <tr>\n",
       "      <th>994</th>\n",
       "      <td>MY32149</td>\n",
       "      <td>California</td>\n",
       "      <td>F</td>\n",
       "      <td>Master</td>\n",
       "      <td>368672.38%</td>\n",
       "      <td>0</td>\n",
       "      <td>96</td>\n",
       "      <td>1/0/00</td>\n",
       "      <td>28.460568</td>\n",
       "      <td>Personal Auto</td>\n",
       "      <td>Two-Door Car</td>\n",
       "    </tr>\n",
       "    <tr>\n",
       "      <th>995</th>\n",
       "      <td>SA91515</td>\n",
       "      <td>California</td>\n",
       "      <td>M</td>\n",
       "      <td>Bachelor</td>\n",
       "      <td>399258.39%</td>\n",
       "      <td>0</td>\n",
       "      <td>111</td>\n",
       "      <td>1/0/00</td>\n",
       "      <td>700.349052</td>\n",
       "      <td>Personal Auto</td>\n",
       "      <td>SUV</td>\n",
       "    </tr>\n",
       "  </tbody>\n",
       "</table>\n",
       "<p>996 rows × 11 columns</p>\n",
       "</div>"
      ],
      "text/plain": [
       "    Customer          ST GENDER Education Customer Lifetime Value  Income  \\\n",
       "0    GS98873     Arizona      F  Bachelor              323912.47%   16061   \n",
       "1    CW49887  California      F    Master              462680.11%   79487   \n",
       "2    MY31220  California      F   College              899704.02%   54230   \n",
       "3    UH35128      Oregon      F   College             2580706.30%   71210   \n",
       "4    WH52799     Arizona      F   College              380812.21%   94903   \n",
       "..       ...         ...    ...       ...                     ...     ...   \n",
       "991  HV85198     Arizona      M    Master              847141.75%   63513   \n",
       "992  BS91566     Arizona      F   College              543121.91%   58161   \n",
       "993  IL40123      Nevada      F   College              568964.41%   83640   \n",
       "994  MY32149  California      F    Master              368672.38%       0   \n",
       "995  SA91515  California      M  Bachelor              399258.39%       0   \n",
       "\n",
       "     Monthly Premium Auto Number of Open Complaints  Total Claim Amount  \\\n",
       "0                      88                    1/0/00          633.600000   \n",
       "1                     114                    1/0/00          547.200000   \n",
       "2                     112                    1/0/00          537.600000   \n",
       "3                     214                    1/1/00         1027.200000   \n",
       "4                      94                    1/0/00          451.200000   \n",
       "..                    ...                       ...                 ...   \n",
       "991                    70                    1/0/00          185.667213   \n",
       "992                    68                    1/0/00          140.747286   \n",
       "993                    70                    1/0/00          471.050488   \n",
       "994                    96                    1/0/00           28.460568   \n",
       "995                   111                    1/0/00          700.349052   \n",
       "\n",
       "        Policy Type  Vehicle Class  \n",
       "0     Personal Auto  Four-Door Car  \n",
       "1      Special Auto            SUV  \n",
       "2     Personal Auto   Two-Door Car  \n",
       "3     Personal Auto     Luxury Car  \n",
       "4    Corporate Auto   Two-Door Car  \n",
       "..              ...            ...  \n",
       "991   Personal Auto  Four-Door Car  \n",
       "992  Corporate Auto  Four-Door Car  \n",
       "993  Corporate Auto   Two-Door Car  \n",
       "994   Personal Auto   Two-Door Car  \n",
       "995   Personal Auto            SUV  \n",
       "\n",
       "[996 rows x 11 columns]"
      ]
     },
     "execution_count": 74,
     "metadata": {},
     "output_type": "execute_result"
    }
   ],
   "source": [
    "df_2"
   ]
  },
  {
   "cell_type": "code",
   "execution_count": 75,
   "id": "753612e3-02e4-45d3-a655-4bb48fe81a44",
   "metadata": {},
   "outputs": [
    {
     "data": {
      "text/plain": [
       "Index(['Customer', 'ST', 'GENDER', 'Education', 'Customer Lifetime Value',\n",
       "       'Income', 'Monthly Premium Auto', 'Number of Open Complaints',\n",
       "       'Total Claim Amount', 'Policy Type', 'Vehicle Class'],\n",
       "      dtype='object')"
      ]
     },
     "execution_count": 75,
     "metadata": {},
     "output_type": "execute_result"
    }
   ],
   "source": [
    "df_2.columns"
   ]
  },
  {
   "cell_type": "code",
   "execution_count": 76,
   "id": "2aaaa3dc-26b2-4766-81b5-fbff3fa4319d",
   "metadata": {},
   "outputs": [],
   "source": [
    "df_2.columns = df_2.columns.str.replace(\" \",\"_\")"
   ]
  },
  {
   "cell_type": "code",
   "execution_count": 77,
   "id": "311f3e49-e68a-4bc0-aa34-d2ca9c467384",
   "metadata": {},
   "outputs": [],
   "source": [
    "df_2.rename(columns={'ST': 'State'}, inplace=True)"
   ]
  },
  {
   "cell_type": "code",
   "execution_count": 78,
   "id": "2bb4b01f-1bdd-49c1-88f1-09cf93039077",
   "metadata": {},
   "outputs": [],
   "source": [
    "df_2.rename(columns={'GENDER': 'Gender'}, inplace=True)"
   ]
  },
  {
   "cell_type": "code",
   "execution_count": 79,
   "id": "671a19da-d2bf-4188-bf8a-adbe038feb57",
   "metadata": {},
   "outputs": [
    {
     "data": {
      "text/plain": [
       "Index(['Customer', 'State', 'Gender', 'Education', 'Customer_Lifetime_Value',\n",
       "       'Income', 'Monthly_Premium_Auto', 'Number_of_Open_Complaints',\n",
       "       'Total_Claim_Amount', 'Policy_Type', 'Vehicle_Class'],\n",
       "      dtype='object')"
      ]
     },
     "execution_count": 79,
     "metadata": {},
     "output_type": "execute_result"
    }
   ],
   "source": [
    "df_2.columns"
   ]
  },
  {
   "cell_type": "code",
   "execution_count": 80,
   "id": "642443e2-9164-48ac-9540-6da493eabd95",
   "metadata": {},
   "outputs": [
    {
     "data": {
      "text/html": [
       "<div>\n",
       "<style scoped>\n",
       "    .dataframe tbody tr th:only-of-type {\n",
       "        vertical-align: middle;\n",
       "    }\n",
       "\n",
       "    .dataframe tbody tr th {\n",
       "        vertical-align: top;\n",
       "    }\n",
       "\n",
       "    .dataframe thead th {\n",
       "        text-align: right;\n",
       "    }\n",
       "</style>\n",
       "<table border=\"1\" class=\"dataframe\">\n",
       "  <thead>\n",
       "    <tr style=\"text-align: right;\">\n",
       "      <th></th>\n",
       "      <th>Customer</th>\n",
       "      <th>State</th>\n",
       "      <th>Customer Lifetime Value</th>\n",
       "      <th>Education</th>\n",
       "      <th>Gender</th>\n",
       "      <th>Income</th>\n",
       "      <th>Monthly Premium Auto</th>\n",
       "      <th>Number of Open Complaints</th>\n",
       "      <th>Policy Type</th>\n",
       "      <th>Total Claim Amount</th>\n",
       "      <th>Vehicle Class</th>\n",
       "    </tr>\n",
       "  </thead>\n",
       "  <tbody>\n",
       "    <tr>\n",
       "      <th>0</th>\n",
       "      <td>SA25987</td>\n",
       "      <td>Washington</td>\n",
       "      <td>3479.137523</td>\n",
       "      <td>High School or Below</td>\n",
       "      <td>M</td>\n",
       "      <td>0</td>\n",
       "      <td>104</td>\n",
       "      <td>0</td>\n",
       "      <td>Personal Auto</td>\n",
       "      <td>499.200000</td>\n",
       "      <td>Two-Door Car</td>\n",
       "    </tr>\n",
       "    <tr>\n",
       "      <th>1</th>\n",
       "      <td>TB86706</td>\n",
       "      <td>Arizona</td>\n",
       "      <td>2502.637401</td>\n",
       "      <td>Master</td>\n",
       "      <td>M</td>\n",
       "      <td>0</td>\n",
       "      <td>66</td>\n",
       "      <td>0</td>\n",
       "      <td>Personal Auto</td>\n",
       "      <td>3.468912</td>\n",
       "      <td>Two-Door Car</td>\n",
       "    </tr>\n",
       "    <tr>\n",
       "      <th>2</th>\n",
       "      <td>ZL73902</td>\n",
       "      <td>Nevada</td>\n",
       "      <td>3265.156348</td>\n",
       "      <td>Bachelor</td>\n",
       "      <td>F</td>\n",
       "      <td>25820</td>\n",
       "      <td>82</td>\n",
       "      <td>0</td>\n",
       "      <td>Personal Auto</td>\n",
       "      <td>393.600000</td>\n",
       "      <td>Four-Door Car</td>\n",
       "    </tr>\n",
       "    <tr>\n",
       "      <th>3</th>\n",
       "      <td>KX23516</td>\n",
       "      <td>California</td>\n",
       "      <td>4455.843406</td>\n",
       "      <td>High School or Below</td>\n",
       "      <td>F</td>\n",
       "      <td>0</td>\n",
       "      <td>121</td>\n",
       "      <td>0</td>\n",
       "      <td>Personal Auto</td>\n",
       "      <td>699.615192</td>\n",
       "      <td>SUV</td>\n",
       "    </tr>\n",
       "    <tr>\n",
       "      <th>4</th>\n",
       "      <td>FN77294</td>\n",
       "      <td>California</td>\n",
       "      <td>7704.958480</td>\n",
       "      <td>High School or Below</td>\n",
       "      <td>M</td>\n",
       "      <td>30366</td>\n",
       "      <td>101</td>\n",
       "      <td>2</td>\n",
       "      <td>Personal Auto</td>\n",
       "      <td>484.800000</td>\n",
       "      <td>SUV</td>\n",
       "    </tr>\n",
       "    <tr>\n",
       "      <th>...</th>\n",
       "      <td>...</td>\n",
       "      <td>...</td>\n",
       "      <td>...</td>\n",
       "      <td>...</td>\n",
       "      <td>...</td>\n",
       "      <td>...</td>\n",
       "      <td>...</td>\n",
       "      <td>...</td>\n",
       "      <td>...</td>\n",
       "      <td>...</td>\n",
       "      <td>...</td>\n",
       "    </tr>\n",
       "    <tr>\n",
       "      <th>7065</th>\n",
       "      <td>LA72316</td>\n",
       "      <td>California</td>\n",
       "      <td>23405.987980</td>\n",
       "      <td>Bachelor</td>\n",
       "      <td>M</td>\n",
       "      <td>71941</td>\n",
       "      <td>73</td>\n",
       "      <td>0</td>\n",
       "      <td>Personal Auto</td>\n",
       "      <td>198.234764</td>\n",
       "      <td>Four-Door Car</td>\n",
       "    </tr>\n",
       "    <tr>\n",
       "      <th>7066</th>\n",
       "      <td>PK87824</td>\n",
       "      <td>California</td>\n",
       "      <td>3096.511217</td>\n",
       "      <td>College</td>\n",
       "      <td>F</td>\n",
       "      <td>21604</td>\n",
       "      <td>79</td>\n",
       "      <td>0</td>\n",
       "      <td>Corporate Auto</td>\n",
       "      <td>379.200000</td>\n",
       "      <td>Four-Door Car</td>\n",
       "    </tr>\n",
       "    <tr>\n",
       "      <th>7067</th>\n",
       "      <td>TD14365</td>\n",
       "      <td>California</td>\n",
       "      <td>8163.890428</td>\n",
       "      <td>Bachelor</td>\n",
       "      <td>M</td>\n",
       "      <td>0</td>\n",
       "      <td>85</td>\n",
       "      <td>3</td>\n",
       "      <td>Corporate Auto</td>\n",
       "      <td>790.784983</td>\n",
       "      <td>Four-Door Car</td>\n",
       "    </tr>\n",
       "    <tr>\n",
       "      <th>7068</th>\n",
       "      <td>UP19263</td>\n",
       "      <td>California</td>\n",
       "      <td>7524.442436</td>\n",
       "      <td>College</td>\n",
       "      <td>M</td>\n",
       "      <td>21941</td>\n",
       "      <td>96</td>\n",
       "      <td>0</td>\n",
       "      <td>Personal Auto</td>\n",
       "      <td>691.200000</td>\n",
       "      <td>Four-Door Car</td>\n",
       "    </tr>\n",
       "    <tr>\n",
       "      <th>7069</th>\n",
       "      <td>Y167826</td>\n",
       "      <td>California</td>\n",
       "      <td>2611.836866</td>\n",
       "      <td>College</td>\n",
       "      <td>M</td>\n",
       "      <td>0</td>\n",
       "      <td>77</td>\n",
       "      <td>0</td>\n",
       "      <td>Corporate Auto</td>\n",
       "      <td>369.600000</td>\n",
       "      <td>Two-Door Car</td>\n",
       "    </tr>\n",
       "  </tbody>\n",
       "</table>\n",
       "<p>7070 rows × 11 columns</p>\n",
       "</div>"
      ],
      "text/plain": [
       "     Customer       State  Customer Lifetime Value             Education  \\\n",
       "0     SA25987  Washington              3479.137523  High School or Below   \n",
       "1     TB86706     Arizona              2502.637401                Master   \n",
       "2     ZL73902      Nevada              3265.156348              Bachelor   \n",
       "3     KX23516  California              4455.843406  High School or Below   \n",
       "4     FN77294  California              7704.958480  High School or Below   \n",
       "...       ...         ...                      ...                   ...   \n",
       "7065  LA72316  California             23405.987980              Bachelor   \n",
       "7066  PK87824  California              3096.511217               College   \n",
       "7067  TD14365  California              8163.890428              Bachelor   \n",
       "7068  UP19263  California              7524.442436               College   \n",
       "7069  Y167826  California              2611.836866               College   \n",
       "\n",
       "     Gender  Income  Monthly Premium Auto  Number of Open Complaints  \\\n",
       "0         M       0                   104                          0   \n",
       "1         M       0                    66                          0   \n",
       "2         F   25820                    82                          0   \n",
       "3         F       0                   121                          0   \n",
       "4         M   30366                   101                          2   \n",
       "...     ...     ...                   ...                        ...   \n",
       "7065      M   71941                    73                          0   \n",
       "7066      F   21604                    79                          0   \n",
       "7067      M       0                    85                          3   \n",
       "7068      M   21941                    96                          0   \n",
       "7069      M       0                    77                          0   \n",
       "\n",
       "         Policy Type  Total Claim Amount  Vehicle Class  \n",
       "0      Personal Auto          499.200000   Two-Door Car  \n",
       "1      Personal Auto            3.468912   Two-Door Car  \n",
       "2      Personal Auto          393.600000  Four-Door Car  \n",
       "3      Personal Auto          699.615192            SUV  \n",
       "4      Personal Auto          484.800000            SUV  \n",
       "...              ...                 ...            ...  \n",
       "7065   Personal Auto          198.234764  Four-Door Car  \n",
       "7066  Corporate Auto          379.200000  Four-Door Car  \n",
       "7067  Corporate Auto          790.784983  Four-Door Car  \n",
       "7068   Personal Auto          691.200000  Four-Door Car  \n",
       "7069  Corporate Auto          369.600000   Two-Door Car  \n",
       "\n",
       "[7070 rows x 11 columns]"
      ]
     },
     "execution_count": 80,
     "metadata": {},
     "output_type": "execute_result"
    }
   ],
   "source": [
    "df_3"
   ]
  },
  {
   "cell_type": "code",
   "execution_count": 81,
   "id": "d551d361-74c1-45ba-9cf0-dc97c8c59dd1",
   "metadata": {},
   "outputs": [
    {
     "data": {
      "text/plain": [
       "Index(['Customer', 'State', 'Customer Lifetime Value', 'Education', 'Gender',\n",
       "       'Income', 'Monthly Premium Auto', 'Number of Open Complaints',\n",
       "       'Policy Type', 'Total Claim Amount', 'Vehicle Class'],\n",
       "      dtype='object')"
      ]
     },
     "execution_count": 81,
     "metadata": {},
     "output_type": "execute_result"
    }
   ],
   "source": [
    "df_3.columns"
   ]
  },
  {
   "cell_type": "code",
   "execution_count": 82,
   "id": "133c4ab2-5d08-4a25-872f-599c6c4f1a58",
   "metadata": {},
   "outputs": [],
   "source": [
    "df_3.columns = df_3.columns.str.replace(\" \",\"_\")"
   ]
  },
  {
   "cell_type": "code",
   "execution_count": 83,
   "id": "af80dff0-71c9-47c3-8942-88d03b3f2370",
   "metadata": {},
   "outputs": [],
   "source": [
    "df_3.rename(columns={'GENDER': 'Gender'}, inplace=True)"
   ]
  },
  {
   "cell_type": "code",
   "execution_count": 84,
   "id": "c4ef955b-89ea-48b2-adf5-b5e915065b16",
   "metadata": {},
   "outputs": [
    {
     "data": {
      "text/plain": [
       "Index(['Customer', 'State', 'Customer_Lifetime_Value', 'Education', 'Gender',\n",
       "       'Income', 'Monthly_Premium_Auto', 'Number_of_Open_Complaints',\n",
       "       'Policy_Type', 'Total_Claim_Amount', 'Vehicle_Class'],\n",
       "      dtype='object')"
      ]
     },
     "execution_count": 84,
     "metadata": {},
     "output_type": "execute_result"
    }
   ],
   "source": [
    "df_3.columns"
   ]
  },
  {
   "cell_type": "markdown",
   "id": "4a3931f7-f9b4-41de-963d-d46db8ea8db1",
   "metadata": {},
   "source": [
    "##### Building concatenated DataFrame"
   ]
  },
  {
   "cell_type": "code",
   "execution_count": 113,
   "id": "42298b95-5344-4d62-a827-ec23ad0bffc2",
   "metadata": {},
   "outputs": [
    {
     "data": {
      "text/plain": [
       "Index(['Customer', 'State', 'Gender', 'Education', 'Customer_Lifetime_Value',\n",
       "       'Income', 'Monthly_Premium_Auto', 'Number_of_Open_Complaints',\n",
       "       'Policy_Type', 'Vehicle_Class', 'Total_Claim_Amount'],\n",
       "      dtype='object')"
      ]
     },
     "execution_count": 113,
     "metadata": {},
     "output_type": "execute_result"
    }
   ],
   "source": [
    "df = pd.concat([df_1,df_2,df_3], axis=0)\n",
    "df.columns"
   ]
  },
  {
   "cell_type": "code",
   "execution_count": 114,
   "id": "971ffc86-55f0-4cd5-a0d5-485ef7ae8c6e",
   "metadata": {},
   "outputs": [
    {
     "data": {
      "text/plain": [
       "Index(['customer', 'state', 'gender', 'education', 'customer_lifetime_value',\n",
       "       'income', 'monthly_premium_auto', 'number_of_open_complaints',\n",
       "       'policy_type', 'vehicle_class', 'total_claim_amount'],\n",
       "      dtype='object')"
      ]
     },
     "execution_count": 114,
     "metadata": {},
     "output_type": "execute_result"
    }
   ],
   "source": [
    "df.columns = df.columns.str.lower()\n",
    "df.columns"
   ]
  },
  {
   "cell_type": "markdown",
   "id": "c6ec2899-2ede-4036-9d8b-7b65f761c5d5",
   "metadata": {},
   "source": [
    "##### Cleaning concatenated DataFrame"
   ]
  },
  {
   "cell_type": "markdown",
   "id": "2f71ece8-52a3-4ba8-89ce-892e02dfd31d",
   "metadata": {},
   "source": [
    "###### Changing columns names"
   ]
  },
  {
   "cell_type": "code",
   "execution_count": 115,
   "id": "5452bbe9-ea08-45f7-9c87-7c39df9d3dce",
   "metadata": {},
   "outputs": [
    {
     "data": {
      "text/plain": [
       "0       NaN\n",
       "1         F\n",
       "2         F\n",
       "3         M\n",
       "4         M\n",
       "       ... \n",
       "7065      M\n",
       "7066      F\n",
       "7067      M\n",
       "7068      M\n",
       "7069      M\n",
       "Name: gender, Length: 12074, dtype: object"
      ]
     },
     "execution_count": 115,
     "metadata": {},
     "output_type": "execute_result"
    }
   ],
   "source": [
    "# Gender column contains various inconsistent values such as \"F\", \"M\", \"Femal\", \"Male\", \"female\", which need to be standardized, for example, to \"M\" and \"F\".\n",
    "state_mapping = {\n",
    "    'Male' : 'M',  # Replace 'Male' with 'M'\n",
    "    'female': 'F',  # Replace 'female' with 'F'\n",
    "    'Femal' : 'F',  # Replace 'Femal' with 'F'\n",
    "}\n",
    "\n",
    "# Replace values in the 'gender' column using the mapping dictionary\n",
    "df['gender'] = df['gender'].replace(state_mapping)\n",
    "df['gender']"
   ]
  },
  {
   "cell_type": "code",
   "execution_count": 116,
   "id": "9a0fad54-dbcc-473c-bbae-26a4ba66edbd",
   "metadata": {},
   "outputs": [
    {
     "data": {
      "text/plain": [
       "0       Washington\n",
       "1          Arizona\n",
       "2           Nevada\n",
       "3       California\n",
       "4       Washington\n",
       "           ...    \n",
       "7065    California\n",
       "7066    California\n",
       "7067    California\n",
       "7068    California\n",
       "7069    California\n",
       "Name: state, Length: 12074, dtype: object"
      ]
     },
     "execution_count": 116,
     "metadata": {},
     "output_type": "execute_result"
    }
   ],
   "source": [
    "# State abbreviations be can replaced with its full name, for example \"AZ\": \"Arizona\", \"Cali\": \"California\", \"WA\": \"Washington\"\n",
    "state_mapping = {\n",
    "    'AZ' : 'Arizona',  # Replace 'AZ' with 'Arizona'\n",
    "    'Cali': 'California',  # Replace 'Cali' with 'California'\n",
    "    'WA' : 'Washington',  # Replace 'AZ' with 'Arizona'\n",
    "}\n",
    "\n",
    "# Replace values in the 'state' column using the mapping dictionary\n",
    "df['state'] = df['state'].replace(state_mapping)\n",
    "df['state']"
   ]
  },
  {
   "cell_type": "code",
   "execution_count": 117,
   "id": "7f81a6f8-c8e2-402b-94df-4e71e08b73a4",
   "metadata": {},
   "outputs": [
    {
     "data": {
      "text/plain": [
       "0                     Master\n",
       "1                   Bachelor\n",
       "2                   Bachelor\n",
       "3                   Bachelor\n",
       "4       High School or Below\n",
       "                ...         \n",
       "7065                Bachelor\n",
       "7066                 College\n",
       "7067                Bachelor\n",
       "7068                 College\n",
       "7069                 College\n",
       "Name: education, Length: 12074, dtype: object"
      ]
     },
     "execution_count": 117,
     "metadata": {},
     "output_type": "execute_result"
    }
   ],
   "source": [
    "# In education, \"Bachelors\" could be replaced by \"Bachelor\"\n",
    "state_mapping = {\n",
    "    'Bachelors' : 'Bachelor',  # Replace 'Bachelors' with 'Bachelor'\n",
    "}\n",
    "\n",
    "# Replace values in the 'Bachelors' column using the mapping dictionary\n",
    "df['education'] = df['education'].replace(state_mapping)\n",
    "df['education']"
   ]
  },
  {
   "cell_type": "code",
   "execution_count": 118,
   "id": "d9caaa24-f258-42b7-a444-eba3d4e1c859",
   "metadata": {
    "scrolled": true
   },
   "outputs": [
    {
     "data": {
      "text/plain": [
       "0       Four-Door Car\n",
       "1       Four-Door Car\n",
       "2        Two-Door Car\n",
       "3                 SUV\n",
       "4       Four-Door Car\n",
       "            ...      \n",
       "7065    Four-Door Car\n",
       "7066    Four-Door Car\n",
       "7067    Four-Door Car\n",
       "7068    Four-Door Car\n",
       "7069     Two-Door Car\n",
       "Name: vehicle_class, Length: 12074, dtype: object"
      ]
     },
     "execution_count": 118,
     "metadata": {},
     "output_type": "execute_result"
    }
   ],
   "source": [
    "# In vehicle class, \"Sports Car\", \"Luxury SUV\" and \"Luxury Car\" could be replaced by \"Luxury\"\n",
    "state_mapping = {\n",
    "    'Sports Car' : 'Luxury',  # Replace 'Sports Car' with 'Luxury'\n",
    "    'Luxury SUV' : 'Luxury',  # Replace 'Luxury SUV' with 'Luxury'\n",
    "    'Luxury Car' : 'Luxury',  # Replace 'Luxury Car' with 'Luxury' \n",
    "}\n",
    "\n",
    "# Replace values in the 'vehicle_class' column using the mapping dictionary\n",
    "df['vehicle_class'] = df['vehicle_class'].replace(state_mapping)\n",
    "df['vehicle_class']"
   ]
  },
  {
   "cell_type": "code",
   "execution_count": 119,
   "id": "e0ebd611-650c-4982-b743-54a86a5b5c77",
   "metadata": {},
   "outputs": [
    {
     "data": {
      "text/plain": [
       "0              NaN\n",
       "1        697953.59\n",
       "2       1288743.17\n",
       "3        764586.18\n",
       "4        536307.65\n",
       "           ...    \n",
       "7065           NaN\n",
       "7066           NaN\n",
       "7067           NaN\n",
       "7068           NaN\n",
       "7069           NaN\n",
       "Name: customer_lifetime_value, Length: 12074, dtype: object"
      ]
     },
     "execution_count": 119,
     "metadata": {},
     "output_type": "execute_result"
    }
   ],
   "source": [
    "# Cleaning the % in customer_lifetime_value\n",
    "df['customer_lifetime_value'] = df['customer_lifetime_value'].str.rstrip('%')\n",
    "df['customer_lifetime_value']"
   ]
  },
  {
   "cell_type": "code",
   "execution_count": 120,
   "id": "e991802a-7fa8-4275-9f90-1a02460d7cf6",
   "metadata": {},
   "outputs": [
    {
     "data": {
      "text/plain": [
       "0                0\n",
       "1        697953.59\n",
       "2       1288743.17\n",
       "3        764586.18\n",
       "4        536307.65\n",
       "           ...    \n",
       "7065             0\n",
       "7066             0\n",
       "7067             0\n",
       "7068             0\n",
       "7069             0\n",
       "Name: customer_lifetime_value, Length: 12074, dtype: object"
      ]
     },
     "execution_count": 120,
     "metadata": {},
     "output_type": "execute_result"
    }
   ],
   "source": [
    "# Handle missing values by filling NaN with 0 (or any other appropriate value)\n",
    "df['customer_lifetime_value'] = df['customer_lifetime_value'].fillna(0)  # Replace NaN with 0\n",
    "df['customer_lifetime_value']"
   ]
  },
  {
   "cell_type": "code",
   "execution_count": 121,
   "id": "d459a27c-8cd6-4d21-bbe3-e9238eb256d4",
   "metadata": {},
   "outputs": [],
   "source": [
    "# Change customer_lifetime_value data type\n",
    "df['customer_lifetime_value'] = df['customer_lifetime_value'].astype(float) "
   ]
  },
  {
   "cell_type": "code",
   "execution_count": 122,
   "id": "74852812-8728-486a-9327-736f6f890389",
   "metadata": {},
   "outputs": [
    {
     "data": {
      "text/plain": [
       "0          \n",
       "1          \n",
       "2          \n",
       "3          \n",
       "4          \n",
       "       ... \n",
       "7065    NaN\n",
       "7066    NaN\n",
       "7067    NaN\n",
       "7068    NaN\n",
       "7069    NaN\n",
       "Name: number_of_open_complaints, Length: 12074, dtype: object"
      ]
     },
     "execution_count": 122,
     "metadata": {},
     "output_type": "execute_result"
    }
   ],
   "source": [
    "# Number of open complaints has an incorrect format.\n",
    "df['number_of_open_complaints'] = df['number_of_open_complaints'].str.lstrip('1/')\n",
    "df['number_of_open_complaints'] = df['number_of_open_complaints'].str.rstrip('/00')\n",
    "df['number_of_open_complaints']"
   ]
  },
  {
   "cell_type": "code",
   "execution_count": 123,
   "id": "ec8c480a-c457-48fa-aa8e-650068bf99fc",
   "metadata": {},
   "outputs": [
    {
     "data": {
      "text/plain": [
       "0        \n",
       "1        \n",
       "2        \n",
       "3        \n",
       "4        \n",
       "       ..\n",
       "7065    0\n",
       "7066    0\n",
       "7067    0\n",
       "7068    0\n",
       "7069    0\n",
       "Name: number_of_open_complaints, Length: 12074, dtype: object"
      ]
     },
     "execution_count": 123,
     "metadata": {},
     "output_type": "execute_result"
    }
   ],
   "source": [
    "# Handle missing values by filling NaN with 0 (or any other appropriate value)\n",
    "df['number_of_open_complaints'] = df['number_of_open_complaints'].fillna(0)  # Replace NaN with 0\n",
    "df['number_of_open_complaints']"
   ]
  },
  {
   "cell_type": "code",
   "execution_count": 124,
   "id": "c64e0ddb-2202-49cc-ac18-d0f317a60ee0",
   "metadata": {},
   "outputs": [
    {
     "data": {
      "text/plain": [
       "number_of_open_complaints\n",
       "0    11880\n",
       "2       93\n",
       "3       60\n",
       "4       29\n",
       "5       12\n",
       "Name: count, dtype: int64"
      ]
     },
     "execution_count": 124,
     "metadata": {},
     "output_type": "execute_result"
    }
   ],
   "source": [
    "# I need to replace blank row values for 0 in my df\n",
    "df['number_of_open_complaints'] = df['number_of_open_complaints'].replace('', 0)\n",
    "df['number_of_open_complaints'].value_counts()"
   ]
  },
  {
   "cell_type": "code",
   "execution_count": 125,
   "id": "020afb26-bf60-4c03-acd0-2f3960ca072a",
   "metadata": {},
   "outputs": [],
   "source": [
    "# Change customer_lifetime_value data type\n",
    "df['number_of_open_complaints'] = df['number_of_open_complaints'].astype(int)"
   ]
  },
  {
   "cell_type": "code",
   "execution_count": 126,
   "id": "f59ae91e-c98f-4de4-9e72-ad2563ece993",
   "metadata": {},
   "outputs": [
    {
     "name": "stdout",
     "output_type": "stream",
     "text": [
      "<class 'pandas.core.frame.DataFrame'>\n",
      "Index: 12074 entries, 0 to 7069\n",
      "Data columns (total 11 columns):\n",
      " #   Column                     Non-Null Count  Dtype   \n",
      "---  ------                     --------------  -----   \n",
      " 0   customer                   9137 non-null   category\n",
      " 1   state                      9137 non-null   category\n",
      " 2   gender                     9015 non-null   category\n",
      " 3   education                  9137 non-null   category\n",
      " 4   customer_lifetime_value    12074 non-null  float64 \n",
      " 5   income                     9137 non-null   float64 \n",
      " 6   monthly_premium_auto       9137 non-null   float64 \n",
      " 7   number_of_open_complaints  12074 non-null  int32   \n",
      " 8   policy_type                9137 non-null   category\n",
      " 9   vehicle_class              9137 non-null   category\n",
      " 10  total_claim_amount         9137 non-null   float64 \n",
      "dtypes: category(6), float64(4), int32(1)\n",
      "memory usage: 931.0 KB\n"
     ]
    }
   ],
   "source": [
    "# Correct the data types of these columns\n",
    "df['customer'] = df['customer'].astype('category')\n",
    "df['state'] = df['state'].astype('category')\n",
    "df['gender'] = df['gender'].astype('category')\n",
    "df['education'] = df['education'].astype('category')\n",
    "df['policy_type'] = df['policy_type'].astype('category')\n",
    "df['vehicle_class'] = df['vehicle_class'].astype('category')\n",
    "df.info()"
   ]
  },
  {
   "cell_type": "code",
   "execution_count": 127,
   "id": "83350e1a-2e2e-41bb-9b40-a2fc8d55c48b",
   "metadata": {},
   "outputs": [
    {
     "data": {
      "text/plain": [
       "customer                     2937\n",
       "state                        2937\n",
       "gender                       3059\n",
       "education                    2937\n",
       "customer_lifetime_value         0\n",
       "income                       2937\n",
       "monthly_premium_auto         2937\n",
       "number_of_open_complaints       0\n",
       "policy_type                  2937\n",
       "vehicle_class                2937\n",
       "total_claim_amount           2937\n",
       "dtype: int64"
      ]
     },
     "execution_count": 127,
     "metadata": {},
     "output_type": "execute_result"
    }
   ],
   "source": [
    "# Identify any columns with null or missing values. \n",
    "df.isnull().sum()"
   ]
  },
  {
   "cell_type": "code",
   "execution_count": 128,
   "id": "2b90e594-b811-4e6e-949d-ec8ad34e4625",
   "metadata": {},
   "outputs": [
    {
     "data": {
      "text/plain": [
       "customer                     0\n",
       "state                        0\n",
       "gender                       0\n",
       "education                    0\n",
       "customer_lifetime_value      0\n",
       "income                       0\n",
       "monthly_premium_auto         0\n",
       "number_of_open_complaints    0\n",
       "policy_type                  0\n",
       "vehicle_class                0\n",
       "total_claim_amount           0\n",
       "dtype: int64"
      ]
     },
     "execution_count": 128,
     "metadata": {},
     "output_type": "execute_result"
    }
   ],
   "source": [
    "# Drop the rows or columns with null values\n",
    "cleaned_df = df.dropna()\n",
    "cleaned_df.isnull().sum()"
   ]
  },
  {
   "cell_type": "code",
   "execution_count": 129,
   "id": "8373bee0-92f9-4b30-b33c-891343d44e1b",
   "metadata": {},
   "outputs": [
    {
     "data": {
      "text/plain": [
       "(9015, 11)"
      ]
     },
     "execution_count": 129,
     "metadata": {},
     "output_type": "execute_result"
    }
   ],
   "source": [
    "cleaned_df.shape"
   ]
  },
  {
   "cell_type": "code",
   "execution_count": 131,
   "id": "254282a5-f93a-4965-b6d3-8b3698077dcc",
   "metadata": {},
   "outputs": [
    {
     "data": {
      "text/plain": [
       "7"
      ]
     },
     "execution_count": 131,
     "metadata": {},
     "output_type": "execute_result"
    }
   ],
   "source": [
    "# Deleting duplicates in the dataframe\n",
    "cleaned_df.duplicated().sum()"
   ]
  },
  {
   "cell_type": "code",
   "execution_count": 132,
   "id": "a6bf743b-f1f5-4b2c-b137-71ea1d02d032",
   "metadata": {},
   "outputs": [
    {
     "name": "stderr",
     "output_type": "stream",
     "text": [
      "C:\\Users\\user\\AppData\\Local\\Temp\\ipykernel_10496\\1412836199.py:2: SettingWithCopyWarning: \n",
      "A value is trying to be set on a copy of a slice from a DataFrame\n",
      "\n",
      "See the caveats in the documentation: https://pandas.pydata.org/pandas-docs/stable/user_guide/indexing.html#returning-a-view-versus-a-copy\n",
      "  cleaned_df.drop_duplicates(inplace=True) # we know there are none but this is how we would do it\n"
     ]
    },
    {
     "data": {
      "text/plain": [
       "0"
      ]
     },
     "execution_count": 132,
     "metadata": {},
     "output_type": "execute_result"
    }
   ],
   "source": [
    "# Remove duplicates and update the DataFrame\n",
    "cleaned_df.drop_duplicates(inplace=True) # we know there are none but this is how we would do it\n",
    "cleaned_df.duplicated().sum()"
   ]
  },
  {
   "cell_type": "markdown",
   "id": "31b8a9e7-7db9-4604-991b-ef6771603e57",
   "metadata": {
    "id": "31b8a9e7-7db9-4604-991b-ef6771603e57"
   },
   "source": [
    "# Challenge 2: Structuring Data"
   ]
  },
  {
   "cell_type": "markdown",
   "id": "a877fd6d-7a0c-46d2-9657-f25036e4ca4b",
   "metadata": {
    "id": "a877fd6d-7a0c-46d2-9657-f25036e4ca4b"
   },
   "source": [
    "In this challenge, we will continue to work with customer data from an insurance company, but we will use a dataset with more columns, called marketing_customer_analysis.csv, which can be found at the following link:\n",
    "\n",
    "https://raw.githubusercontent.com/data-bootcamp-v4/data/main/marketing_customer_analysis_clean.csv\n",
    "\n",
    "This dataset contains information such as customer demographics, policy details, vehicle information, and the customer's response to the last marketing campaign. Our goal is to explore and analyze this data by performing data cleaning, formatting, and structuring."
   ]
  },
  {
   "cell_type": "code",
   "execution_count": null,
   "id": "aa10d9b0-1c27-4d3f-a8e4-db6ab73bfd26",
   "metadata": {
    "id": "aa10d9b0-1c27-4d3f-a8e4-db6ab73bfd26"
   },
   "outputs": [],
   "source": [
    "# Your code goes here"
   ]
  },
  {
   "cell_type": "markdown",
   "id": "df35fd0d-513e-4e77-867e-429da10a9cc7",
   "metadata": {
    "id": "df35fd0d-513e-4e77-867e-429da10a9cc7"
   },
   "source": [
    "1. You work at the marketing department and you want to know which sales channel brought the most sales in terms of total revenue. Using pivot, create a summary table showing the total revenue for each sales channel (branch, call center, web, and mail).\n",
    "Round the total revenue to 2 decimal points.  Analyze the resulting table to draw insights."
   ]
  },
  {
   "cell_type": "markdown",
   "id": "640993b2-a291-436c-a34d-a551144f8196",
   "metadata": {
    "id": "640993b2-a291-436c-a34d-a551144f8196"
   },
   "source": [
    "2. Create a pivot table that shows the average customer lifetime value per gender and education level. Analyze the resulting table to draw insights."
   ]
  },
  {
   "cell_type": "markdown",
   "id": "32c7f2e5-3d90-43e5-be33-9781b6069198",
   "metadata": {
    "id": "32c7f2e5-3d90-43e5-be33-9781b6069198"
   },
   "source": [
    "## Bonus\n",
    "\n",
    "You work at the customer service department and you want to know which months had the highest number of complaints by policy type category. Create a summary table showing the number of complaints by policy type and month.\n",
    "Show it in a long format table."
   ]
  },
  {
   "cell_type": "markdown",
   "id": "e3d09a8f-953c-448a-a5f8-2e5a8cca7291",
   "metadata": {
    "id": "e3d09a8f-953c-448a-a5f8-2e5a8cca7291"
   },
   "source": [
    "*In data analysis, a long format table is a way of structuring data in which each observation or measurement is stored in a separate row of the table. The key characteristic of a long format table is that each column represents a single variable, and each row represents a single observation of that variable.*\n",
    "\n",
    "*More information about long and wide format tables here: https://www.statology.org/long-vs-wide-data/*"
   ]
  },
  {
   "cell_type": "code",
   "execution_count": null,
   "id": "3a069e0b-b400-470e-904d-d17582191be4",
   "metadata": {
    "id": "3a069e0b-b400-470e-904d-d17582191be4"
   },
   "outputs": [],
   "source": [
    "# Your code goes here"
   ]
  }
 ],
 "metadata": {
  "colab": {
   "provenance": []
  },
  "kernelspec": {
   "display_name": "Python 3 (ipykernel)",
   "language": "python",
   "name": "python3"
  },
  "language_info": {
   "codemirror_mode": {
    "name": "ipython",
    "version": 3
   },
   "file_extension": ".py",
   "mimetype": "text/x-python",
   "name": "python",
   "nbconvert_exporter": "python",
   "pygments_lexer": "ipython3",
   "version": "3.11.7"
  }
 },
 "nbformat": 4,
 "nbformat_minor": 5
}
