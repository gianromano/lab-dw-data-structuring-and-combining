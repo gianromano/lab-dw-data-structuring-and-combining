{
 "cells": [
  {
   "cell_type": "markdown",
   "id": "25d7736c-ba17-4aff-b6bb-66eba20fbf4e",
   "metadata": {
    "id": "25d7736c-ba17-4aff-b6bb-66eba20fbf4e"
   },
   "source": [
    "# Lab | Data Structuring and Combining Data"
   ]
  },
  {
   "cell_type": "markdown",
   "id": "a2cdfc70-44c8-478c-81e7-2bc43fdf4986",
   "metadata": {
    "id": "a2cdfc70-44c8-478c-81e7-2bc43fdf4986"
   },
   "source": [
    "## Challenge 1: Combining & Cleaning Data\n",
    "\n",
    "In this challenge, we will be working with the customer data from an insurance company, as we did in the two previous labs. The data can be found here:\n",
    "- https://raw.githubusercontent.com/data-bootcamp-v4/data/main/file1.csv\n",
    "\n",
    "But this time, we got new data, which can be found in the following 2 CSV files located at the links below.\n",
    "\n",
    "- https://raw.githubusercontent.com/data-bootcamp-v4/data/main/file2.csv\n",
    "- https://raw.githubusercontent.com/data-bootcamp-v4/data/main/file3.csv\n",
    "\n",
    "Note that you'll need to clean and format the new data.\n",
    "\n",
    "Observation:\n",
    "- One option is to first combine the three datasets and then apply the cleaning function to the new combined dataset\n",
    "- Another option would be to read the clean file you saved in the previous lab, and just clean the two new files and concatenate the three clean datasets"
   ]
  },
  {
   "cell_type": "code",
   "execution_count": 76,
   "id": "492d06e3-92c7-4105-ac72-536db98d3244",
   "metadata": {
    "id": "492d06e3-92c7-4105-ac72-536db98d3244"
   },
   "outputs": [],
   "source": [
    "# Your code goes here\n",
    "import pandas as pd\n",
    "url_1 = 'https://raw.githubusercontent.com/data-bootcamp-v4/data/main/file1.csv'\n",
    "url_2 = 'https://raw.githubusercontent.com/data-bootcamp-v4/data/main/file2.csv'\n",
    "url_3 = 'https://raw.githubusercontent.com/data-bootcamp-v4/data/main/file3.csv'\n",
    "df_1 = pd.read_csv(url_1)\n",
    "df_2 = pd.read_csv(url_2)\n",
    "df_3 = pd.read_csv(url_3)"
   ]
  },
  {
   "cell_type": "markdown",
   "id": "32c48368-7a07-4c0f-8346-2021d1ec9bf6",
   "metadata": {},
   "source": [
    "##### Option 1: first combine the three datasets and then apply the cleaning function to the new combined dataset"
   ]
  },
  {
   "cell_type": "code",
   "execution_count": 77,
   "id": "f21bc553-2a3b-485d-86a6-5b739090dd96",
   "metadata": {},
   "outputs": [
    {
     "data": {
      "text/plain": [
       "Index(['Customer', 'ST', 'GENDER', 'Education', 'Customer Lifetime Value',\n",
       "       'Income', 'Monthly Premium Auto', 'Number of Open Complaints',\n",
       "       'Policy Type', 'Vehicle Class', 'Total Claim Amount'],\n",
       "      dtype='object')"
      ]
     },
     "execution_count": 77,
     "metadata": {},
     "output_type": "execute_result"
    }
   ],
   "source": [
    "df_1.columns"
   ]
  },
  {
   "cell_type": "code",
   "execution_count": 78,
   "id": "6813e858-fef9-48c4-bc56-88add44bda51",
   "metadata": {},
   "outputs": [],
   "source": [
    "df_1.columns = df_1.columns.str.replace(\" \",\"_\")"
   ]
  },
  {
   "cell_type": "code",
   "execution_count": 79,
   "id": "b94c11f4-e345-470e-9c4c-d4215901c7ce",
   "metadata": {},
   "outputs": [],
   "source": [
    "df_1.rename(columns={'ST': 'State'}, inplace=True)"
   ]
  },
  {
   "cell_type": "code",
   "execution_count": 80,
   "id": "90a55617-b2ab-46e1-80d0-e601a69566d7",
   "metadata": {},
   "outputs": [],
   "source": [
    "df_1.rename(columns={'GENDER': 'Gender'}, inplace=True)"
   ]
  },
  {
   "cell_type": "code",
   "execution_count": 81,
   "id": "c8f3de22-7abf-4517-aa15-382cd2352ff4",
   "metadata": {},
   "outputs": [
    {
     "data": {
      "text/plain": [
       "Index(['Customer', 'State', 'Gender', 'Education', 'Customer_Lifetime_Value',\n",
       "       'Income', 'Monthly_Premium_Auto', 'Number_of_Open_Complaints',\n",
       "       'Policy_Type', 'Vehicle_Class', 'Total_Claim_Amount'],\n",
       "      dtype='object')"
      ]
     },
     "execution_count": 81,
     "metadata": {},
     "output_type": "execute_result"
    }
   ],
   "source": [
    "df_1.columns"
   ]
  },
  {
   "cell_type": "code",
   "execution_count": 82,
   "id": "753612e3-02e4-45d3-a655-4bb48fe81a44",
   "metadata": {},
   "outputs": [
    {
     "data": {
      "text/plain": [
       "Index(['Customer', 'ST', 'GENDER', 'Education', 'Customer Lifetime Value',\n",
       "       'Income', 'Monthly Premium Auto', 'Number of Open Complaints',\n",
       "       'Total Claim Amount', 'Policy Type', 'Vehicle Class'],\n",
       "      dtype='object')"
      ]
     },
     "execution_count": 82,
     "metadata": {},
     "output_type": "execute_result"
    }
   ],
   "source": [
    "df_2.columns"
   ]
  },
  {
   "cell_type": "code",
   "execution_count": 83,
   "id": "2aaaa3dc-26b2-4766-81b5-fbff3fa4319d",
   "metadata": {},
   "outputs": [],
   "source": [
    "df_2.columns = df_2.columns.str.replace(\" \",\"_\")"
   ]
  },
  {
   "cell_type": "code",
   "execution_count": 84,
   "id": "311f3e49-e68a-4bc0-aa34-d2ca9c467384",
   "metadata": {},
   "outputs": [],
   "source": [
    "df_2.rename(columns={'ST': 'State'}, inplace=True)"
   ]
  },
  {
   "cell_type": "code",
   "execution_count": 85,
   "id": "2bb4b01f-1bdd-49c1-88f1-09cf93039077",
   "metadata": {},
   "outputs": [],
   "source": [
    "df_2.rename(columns={'GENDER': 'Gender'}, inplace=True)"
   ]
  },
  {
   "cell_type": "code",
   "execution_count": 86,
   "id": "671a19da-d2bf-4188-bf8a-adbe038feb57",
   "metadata": {},
   "outputs": [
    {
     "data": {
      "text/plain": [
       "Index(['Customer', 'State', 'Gender', 'Education', 'Customer_Lifetime_Value',\n",
       "       'Income', 'Monthly_Premium_Auto', 'Number_of_Open_Complaints',\n",
       "       'Total_Claim_Amount', 'Policy_Type', 'Vehicle_Class'],\n",
       "      dtype='object')"
      ]
     },
     "execution_count": 86,
     "metadata": {},
     "output_type": "execute_result"
    }
   ],
   "source": [
    "df_2.columns"
   ]
  },
  {
   "cell_type": "code",
   "execution_count": 87,
   "id": "d551d361-74c1-45ba-9cf0-dc97c8c59dd1",
   "metadata": {},
   "outputs": [
    {
     "data": {
      "text/plain": [
       "Index(['Customer', 'State', 'Customer Lifetime Value', 'Education', 'Gender',\n",
       "       'Income', 'Monthly Premium Auto', 'Number of Open Complaints',\n",
       "       'Policy Type', 'Total Claim Amount', 'Vehicle Class'],\n",
       "      dtype='object')"
      ]
     },
     "execution_count": 87,
     "metadata": {},
     "output_type": "execute_result"
    }
   ],
   "source": [
    "df_3.columns"
   ]
  },
  {
   "cell_type": "code",
   "execution_count": 88,
   "id": "133c4ab2-5d08-4a25-872f-599c6c4f1a58",
   "metadata": {},
   "outputs": [],
   "source": [
    "df_3.columns = df_3.columns.str.replace(\" \",\"_\")"
   ]
  },
  {
   "cell_type": "code",
   "execution_count": 89,
   "id": "af80dff0-71c9-47c3-8942-88d03b3f2370",
   "metadata": {},
   "outputs": [],
   "source": [
    "df_3.rename(columns={'GENDER': 'Gender'}, inplace=True)"
   ]
  },
  {
   "cell_type": "code",
   "execution_count": 90,
   "id": "c4ef955b-89ea-48b2-adf5-b5e915065b16",
   "metadata": {},
   "outputs": [
    {
     "data": {
      "text/plain": [
       "Index(['Customer', 'State', 'Customer_Lifetime_Value', 'Education', 'Gender',\n",
       "       'Income', 'Monthly_Premium_Auto', 'Number_of_Open_Complaints',\n",
       "       'Policy_Type', 'Total_Claim_Amount', 'Vehicle_Class'],\n",
       "      dtype='object')"
      ]
     },
     "execution_count": 90,
     "metadata": {},
     "output_type": "execute_result"
    }
   ],
   "source": [
    "df_3.columns"
   ]
  },
  {
   "cell_type": "markdown",
   "id": "4a3931f7-f9b4-41de-963d-d46db8ea8db1",
   "metadata": {},
   "source": [
    "##### Building concatenated DataFrame"
   ]
  },
  {
   "cell_type": "code",
   "execution_count": 91,
   "id": "42298b95-5344-4d62-a827-ec23ad0bffc2",
   "metadata": {},
   "outputs": [
    {
     "data": {
      "text/plain": [
       "Index(['Customer', 'State', 'Gender', 'Education', 'Customer_Lifetime_Value',\n",
       "       'Income', 'Monthly_Premium_Auto', 'Number_of_Open_Complaints',\n",
       "       'Policy_Type', 'Vehicle_Class', 'Total_Claim_Amount'],\n",
       "      dtype='object')"
      ]
     },
     "execution_count": 91,
     "metadata": {},
     "output_type": "execute_result"
    }
   ],
   "source": [
    "df = pd.concat([df_1,df_2,df_3], axis=0)\n",
    "df.columns"
   ]
  },
  {
   "cell_type": "code",
   "execution_count": 92,
   "id": "971ffc86-55f0-4cd5-a0d5-485ef7ae8c6e",
   "metadata": {},
   "outputs": [
    {
     "data": {
      "text/plain": [
       "Index(['customer', 'state', 'gender', 'education', 'customer_lifetime_value',\n",
       "       'income', 'monthly_premium_auto', 'number_of_open_complaints',\n",
       "       'policy_type', 'vehicle_class', 'total_claim_amount'],\n",
       "      dtype='object')"
      ]
     },
     "execution_count": 92,
     "metadata": {},
     "output_type": "execute_result"
    }
   ],
   "source": [
    "df.columns = df.columns.str.lower()\n",
    "df.columns"
   ]
  },
  {
   "cell_type": "markdown",
   "id": "c6ec2899-2ede-4036-9d8b-7b65f761c5d5",
   "metadata": {},
   "source": [
    "##### Cleaning concatenated DataFrame"
   ]
  },
  {
   "cell_type": "code",
   "execution_count": 93,
   "id": "5452bbe9-ea08-45f7-9c87-7c39df9d3dce",
   "metadata": {},
   "outputs": [
    {
     "data": {
      "text/plain": [
       "0       NaN\n",
       "1         F\n",
       "2         F\n",
       "3         M\n",
       "4         M\n",
       "       ... \n",
       "7065      M\n",
       "7066      F\n",
       "7067      M\n",
       "7068      M\n",
       "7069      M\n",
       "Name: gender, Length: 12074, dtype: object"
      ]
     },
     "execution_count": 93,
     "metadata": {},
     "output_type": "execute_result"
    }
   ],
   "source": [
    "# Gender column contains various inconsistent values such as \"F\", \"M\", \"Femal\", \"Male\", \"female\", which need to be standardized, for example, to \"M\" and \"F\".\n",
    "mapping = {\n",
    "    'Male' : 'M',  # Replace 'Male' with 'M'\n",
    "    'female': 'F',  # Replace 'female' with 'F'\n",
    "    'Femal' : 'F',  # Replace 'Femal' with 'F'\n",
    "}\n",
    "\n",
    "# Replace values in the 'gender' column using the mapping dictionary\n",
    "df['gender'] = df['gender'].replace(mapping)\n",
    "df['gender']"
   ]
  },
  {
   "cell_type": "code",
   "execution_count": 94,
   "id": "9a0fad54-dbcc-473c-bbae-26a4ba66edbd",
   "metadata": {},
   "outputs": [
    {
     "data": {
      "text/plain": [
       "0       Washington\n",
       "1          Arizona\n",
       "2           Nevada\n",
       "3       California\n",
       "4       Washington\n",
       "           ...    \n",
       "7065    California\n",
       "7066    California\n",
       "7067    California\n",
       "7068    California\n",
       "7069    California\n",
       "Name: state, Length: 12074, dtype: object"
      ]
     },
     "execution_count": 94,
     "metadata": {},
     "output_type": "execute_result"
    }
   ],
   "source": [
    "# State abbreviations be can replaced with its full name, for example \"AZ\": \"Arizona\", \"Cali\": \"California\", \"WA\": \"Washington\"\n",
    "mapping = {\n",
    "    'AZ' : 'Arizona',  # Replace 'AZ' with 'Arizona'\n",
    "    'Cali': 'California',  # Replace 'Cali' with 'California'\n",
    "    'WA' : 'Washington',  # Replace 'AZ' with 'Arizona'\n",
    "}\n",
    "\n",
    "# Replace values in the 'state' column using the mapping dictionary\n",
    "df['state'] = df['state'].replace(mapping)\n",
    "df['state']"
   ]
  },
  {
   "cell_type": "code",
   "execution_count": 95,
   "id": "7f81a6f8-c8e2-402b-94df-4e71e08b73a4",
   "metadata": {},
   "outputs": [
    {
     "data": {
      "text/plain": [
       "0                     Master\n",
       "1                   Bachelor\n",
       "2                   Bachelor\n",
       "3                   Bachelor\n",
       "4       High School or Below\n",
       "                ...         \n",
       "7065                Bachelor\n",
       "7066                 College\n",
       "7067                Bachelor\n",
       "7068                 College\n",
       "7069                 College\n",
       "Name: education, Length: 12074, dtype: object"
      ]
     },
     "execution_count": 95,
     "metadata": {},
     "output_type": "execute_result"
    }
   ],
   "source": [
    "# In education, \"Bachelors\" could be replaced by \"Bachelor\"\n",
    "mapping = {\n",
    "    'Bachelors' : 'Bachelor',  # Replace 'Bachelors' with 'Bachelor'\n",
    "}\n",
    "\n",
    "# Replace values in the 'Bachelors' column using the mapping dictionary\n",
    "df['education'] = df['education'].replace(mapping)\n",
    "df['education']"
   ]
  },
  {
   "cell_type": "code",
   "execution_count": 96,
   "id": "d9caaa24-f258-42b7-a444-eba3d4e1c859",
   "metadata": {
    "scrolled": true
   },
   "outputs": [
    {
     "data": {
      "text/plain": [
       "0       Four-Door Car\n",
       "1       Four-Door Car\n",
       "2        Two-Door Car\n",
       "3                 SUV\n",
       "4       Four-Door Car\n",
       "            ...      \n",
       "7065    Four-Door Car\n",
       "7066    Four-Door Car\n",
       "7067    Four-Door Car\n",
       "7068    Four-Door Car\n",
       "7069     Two-Door Car\n",
       "Name: vehicle_class, Length: 12074, dtype: object"
      ]
     },
     "execution_count": 96,
     "metadata": {},
     "output_type": "execute_result"
    }
   ],
   "source": [
    "# In vehicle class, \"Sports Car\", \"Luxury SUV\" and \"Luxury Car\" could be replaced by \"Luxury\"\n",
    "mapping = {\n",
    "    'Sports Car' : 'Luxury',  # Replace 'Sports Car' with 'Luxury'\n",
    "    'Luxury SUV' : 'Luxury',  # Replace 'Luxury SUV' with 'Luxury'\n",
    "    'Luxury Car' : 'Luxury',  # Replace 'Luxury Car' with 'Luxury' \n",
    "}\n",
    "\n",
    "# Replace values in the 'vehicle_class' column using the mapping dictionary\n",
    "df['vehicle_class'] = df['vehicle_class'].replace(mapping)\n",
    "df['vehicle_class']"
   ]
  },
  {
   "cell_type": "code",
   "execution_count": 97,
   "id": "e0ebd611-650c-4982-b743-54a86a5b5c77",
   "metadata": {},
   "outputs": [],
   "source": [
    "# Cleaning the % in customer_lifetime_value\n",
    "df['customer_lifetime_value'] = df['customer_lifetime_value'].str.rstrip('%')"
   ]
  },
  {
   "cell_type": "code",
   "execution_count": 98,
   "id": "d459a27c-8cd6-4d21-bbe3-e9238eb256d4",
   "metadata": {},
   "outputs": [],
   "source": [
    "# Change customer_lifetime_value data type\n",
    "df['customer_lifetime_value'] = df['customer_lifetime_value'].astype(float) "
   ]
  },
  {
   "cell_type": "code",
   "execution_count": 99,
   "id": "74852812-8728-486a-9327-736f6f890389",
   "metadata": {},
   "outputs": [],
   "source": [
    "# Number of open complaints has an incorrect format.\n",
    "df['number_of_open_complaints'] = df['number_of_open_complaints'].str.lstrip('1/')\n",
    "df['number_of_open_complaints'] = df['number_of_open_complaints'].str.rstrip('/00')"
   ]
  },
  {
   "cell_type": "code",
   "execution_count": 100,
   "id": "c64e0ddb-2202-49cc-ac18-d0f317a60ee0",
   "metadata": {},
   "outputs": [],
   "source": [
    "# I need to replace blank row values for 0 in my df\n",
    "df['number_of_open_complaints'] = df['number_of_open_complaints'].replace('', 0)"
   ]
  },
  {
   "cell_type": "code",
   "execution_count": 104,
   "id": "020afb26-bf60-4c03-acd0-2f3960ca072a",
   "metadata": {},
   "outputs": [],
   "source": [
    "# Change customer_lifetime_value data type\n",
    "df['number_of_open_complaints'] = df['number_of_open_complaints'].astype(float)"
   ]
  },
  {
   "cell_type": "code",
   "execution_count": 105,
   "id": "f59ae91e-c98f-4de4-9e72-ad2563ece993",
   "metadata": {},
   "outputs": [],
   "source": [
    "# Correct the data types of these columns\n",
    "df['customer'] = df['customer'].astype('category')\n",
    "df['state'] = df['state'].astype('category')\n",
    "df['gender'] = df['gender'].astype('category')\n",
    "df['education'] = df['education'].astype('category')\n",
    "df['policy_type'] = df['policy_type'].astype('category')\n",
    "df['vehicle_class'] = df['vehicle_class'].astype('category')"
   ]
  },
  {
   "cell_type": "code",
   "execution_count": 106,
   "id": "f41602cb-6b25-42ed-b84a-9e34e72449a1",
   "metadata": {},
   "outputs": [
    {
     "name": "stdout",
     "output_type": "stream",
     "text": [
      "<class 'pandas.core.frame.DataFrame'>\n",
      "Index: 12074 entries, 0 to 7069\n",
      "Data columns (total 11 columns):\n",
      " #   Column                     Non-Null Count  Dtype   \n",
      "---  ------                     --------------  -----   \n",
      " 0   customer                   9137 non-null   category\n",
      " 1   state                      9137 non-null   category\n",
      " 2   gender                     9015 non-null   category\n",
      " 3   education                  9137 non-null   category\n",
      " 4   customer_lifetime_value    2060 non-null   float64 \n",
      " 5   income                     9137 non-null   float64 \n",
      " 6   monthly_premium_auto       9137 non-null   float64 \n",
      " 7   number_of_open_complaints  2067 non-null   float64 \n",
      " 8   policy_type                9137 non-null   category\n",
      " 9   vehicle_class              9137 non-null   category\n",
      " 10  total_claim_amount         9137 non-null   float64 \n",
      "dtypes: category(6), float64(5)\n",
      "memory usage: 978.2 KB\n"
     ]
    }
   ],
   "source": [
    "df.info()"
   ]
  },
  {
   "cell_type": "code",
   "execution_count": 113,
   "id": "83350e1a-2e2e-41bb-9b40-a2fc8d55c48b",
   "metadata": {},
   "outputs": [
    {
     "data": {
      "text/plain": [
       "customer                     0\n",
       "state                        0\n",
       "gender                       0\n",
       "education                    0\n",
       "customer_lifetime_value      0\n",
       "income                       0\n",
       "monthly_premium_auto         0\n",
       "number_of_open_complaints    0\n",
       "policy_type                  0\n",
       "vehicle_class                0\n",
       "total_claim_amount           0\n",
       "dtype: int64"
      ]
     },
     "execution_count": 113,
     "metadata": {},
     "output_type": "execute_result"
    }
   ],
   "source": [
    "# Identify any columns with null or missing values. \n",
    "df.isnull().sum()"
   ]
  },
  {
   "cell_type": "code",
   "execution_count": 114,
   "id": "2b90e594-b811-4e6e-949d-ec8ad34e4625",
   "metadata": {},
   "outputs": [],
   "source": [
    "# Drop the rows or columns with null values\n",
    "df.dropna(axis=0, inplace=True)"
   ]
  },
  {
   "cell_type": "code",
   "execution_count": 115,
   "id": "254282a5-f93a-4965-b6d3-8b3698077dcc",
   "metadata": {},
   "outputs": [
    {
     "data": {
      "text/plain": [
       "3"
      ]
     },
     "execution_count": 115,
     "metadata": {},
     "output_type": "execute_result"
    }
   ],
   "source": [
    "# Deleting duplicates in the dataframe\n",
    "df.duplicated().sum()"
   ]
  },
  {
   "cell_type": "code",
   "execution_count": 116,
   "id": "51499c93-c8be-44eb-8403-1cf45f8b0cd2",
   "metadata": {},
   "outputs": [
    {
     "data": {
      "text/html": [
       "<div>\n",
       "<style scoped>\n",
       "    .dataframe tbody tr th:only-of-type {\n",
       "        vertical-align: middle;\n",
       "    }\n",
       "\n",
       "    .dataframe tbody tr th {\n",
       "        vertical-align: top;\n",
       "    }\n",
       "\n",
       "    .dataframe thead th {\n",
       "        text-align: right;\n",
       "    }\n",
       "</style>\n",
       "<table border=\"1\" class=\"dataframe\">\n",
       "  <thead>\n",
       "    <tr style=\"text-align: right;\">\n",
       "      <th></th>\n",
       "      <th>customer</th>\n",
       "      <th>state</th>\n",
       "      <th>gender</th>\n",
       "      <th>education</th>\n",
       "      <th>customer_lifetime_value</th>\n",
       "      <th>income</th>\n",
       "      <th>monthly_premium_auto</th>\n",
       "      <th>number_of_open_complaints</th>\n",
       "      <th>policy_type</th>\n",
       "      <th>vehicle_class</th>\n",
       "      <th>total_claim_amount</th>\n",
       "    </tr>\n",
       "  </thead>\n",
       "  <tbody>\n",
       "    <tr>\n",
       "      <th>1</th>\n",
       "      <td>QZ44356</td>\n",
       "      <td>Arizona</td>\n",
       "      <td>F</td>\n",
       "      <td>Bachelor</td>\n",
       "      <td>697953.59</td>\n",
       "      <td>0.0</td>\n",
       "      <td>94.0</td>\n",
       "      <td>0.0</td>\n",
       "      <td>Personal Auto</td>\n",
       "      <td>Four-Door Car</td>\n",
       "      <td>1131.464935</td>\n",
       "    </tr>\n",
       "    <tr>\n",
       "      <th>2</th>\n",
       "      <td>AI49188</td>\n",
       "      <td>Nevada</td>\n",
       "      <td>F</td>\n",
       "      <td>Bachelor</td>\n",
       "      <td>1288743.17</td>\n",
       "      <td>48767.0</td>\n",
       "      <td>108.0</td>\n",
       "      <td>0.0</td>\n",
       "      <td>Personal Auto</td>\n",
       "      <td>Two-Door Car</td>\n",
       "      <td>566.472247</td>\n",
       "    </tr>\n",
       "    <tr>\n",
       "      <th>3</th>\n",
       "      <td>WW63253</td>\n",
       "      <td>California</td>\n",
       "      <td>M</td>\n",
       "      <td>Bachelor</td>\n",
       "      <td>764586.18</td>\n",
       "      <td>0.0</td>\n",
       "      <td>106.0</td>\n",
       "      <td>0.0</td>\n",
       "      <td>Corporate Auto</td>\n",
       "      <td>SUV</td>\n",
       "      <td>529.881344</td>\n",
       "    </tr>\n",
       "    <tr>\n",
       "      <th>4</th>\n",
       "      <td>GA49547</td>\n",
       "      <td>Washington</td>\n",
       "      <td>M</td>\n",
       "      <td>High School or Below</td>\n",
       "      <td>536307.65</td>\n",
       "      <td>36357.0</td>\n",
       "      <td>68.0</td>\n",
       "      <td>0.0</td>\n",
       "      <td>Personal Auto</td>\n",
       "      <td>Four-Door Car</td>\n",
       "      <td>17.269323</td>\n",
       "    </tr>\n",
       "    <tr>\n",
       "      <th>5</th>\n",
       "      <td>OC83172</td>\n",
       "      <td>Oregon</td>\n",
       "      <td>F</td>\n",
       "      <td>Bachelor</td>\n",
       "      <td>825629.78</td>\n",
       "      <td>62902.0</td>\n",
       "      <td>69.0</td>\n",
       "      <td>0.0</td>\n",
       "      <td>Personal Auto</td>\n",
       "      <td>Two-Door Car</td>\n",
       "      <td>159.383042</td>\n",
       "    </tr>\n",
       "    <tr>\n",
       "      <th>...</th>\n",
       "      <td>...</td>\n",
       "      <td>...</td>\n",
       "      <td>...</td>\n",
       "      <td>...</td>\n",
       "      <td>...</td>\n",
       "      <td>...</td>\n",
       "      <td>...</td>\n",
       "      <td>...</td>\n",
       "      <td>...</td>\n",
       "      <td>...</td>\n",
       "      <td>...</td>\n",
       "    </tr>\n",
       "    <tr>\n",
       "      <th>991</th>\n",
       "      <td>HV85198</td>\n",
       "      <td>Arizona</td>\n",
       "      <td>M</td>\n",
       "      <td>Master</td>\n",
       "      <td>847141.75</td>\n",
       "      <td>63513.0</td>\n",
       "      <td>70.0</td>\n",
       "      <td>0.0</td>\n",
       "      <td>Personal Auto</td>\n",
       "      <td>Four-Door Car</td>\n",
       "      <td>185.667213</td>\n",
       "    </tr>\n",
       "    <tr>\n",
       "      <th>992</th>\n",
       "      <td>BS91566</td>\n",
       "      <td>Arizona</td>\n",
       "      <td>F</td>\n",
       "      <td>College</td>\n",
       "      <td>543121.91</td>\n",
       "      <td>58161.0</td>\n",
       "      <td>68.0</td>\n",
       "      <td>0.0</td>\n",
       "      <td>Corporate Auto</td>\n",
       "      <td>Four-Door Car</td>\n",
       "      <td>140.747286</td>\n",
       "    </tr>\n",
       "    <tr>\n",
       "      <th>993</th>\n",
       "      <td>IL40123</td>\n",
       "      <td>Nevada</td>\n",
       "      <td>F</td>\n",
       "      <td>College</td>\n",
       "      <td>568964.41</td>\n",
       "      <td>83640.0</td>\n",
       "      <td>70.0</td>\n",
       "      <td>0.0</td>\n",
       "      <td>Corporate Auto</td>\n",
       "      <td>Two-Door Car</td>\n",
       "      <td>471.050488</td>\n",
       "    </tr>\n",
       "    <tr>\n",
       "      <th>994</th>\n",
       "      <td>MY32149</td>\n",
       "      <td>California</td>\n",
       "      <td>F</td>\n",
       "      <td>Master</td>\n",
       "      <td>368672.38</td>\n",
       "      <td>0.0</td>\n",
       "      <td>96.0</td>\n",
       "      <td>0.0</td>\n",
       "      <td>Personal Auto</td>\n",
       "      <td>Two-Door Car</td>\n",
       "      <td>28.460568</td>\n",
       "    </tr>\n",
       "    <tr>\n",
       "      <th>995</th>\n",
       "      <td>SA91515</td>\n",
       "      <td>California</td>\n",
       "      <td>M</td>\n",
       "      <td>Bachelor</td>\n",
       "      <td>399258.39</td>\n",
       "      <td>0.0</td>\n",
       "      <td>111.0</td>\n",
       "      <td>0.0</td>\n",
       "      <td>Personal Auto</td>\n",
       "      <td>SUV</td>\n",
       "      <td>700.349052</td>\n",
       "    </tr>\n",
       "  </tbody>\n",
       "</table>\n",
       "<p>1937 rows × 11 columns</p>\n",
       "</div>"
      ],
      "text/plain": [
       "    customer       state gender             education  \\\n",
       "1    QZ44356     Arizona      F              Bachelor   \n",
       "2    AI49188      Nevada      F              Bachelor   \n",
       "3    WW63253  California      M              Bachelor   \n",
       "4    GA49547  Washington      M  High School or Below   \n",
       "5    OC83172      Oregon      F              Bachelor   \n",
       "..       ...         ...    ...                   ...   \n",
       "991  HV85198     Arizona      M                Master   \n",
       "992  BS91566     Arizona      F               College   \n",
       "993  IL40123      Nevada      F               College   \n",
       "994  MY32149  California      F                Master   \n",
       "995  SA91515  California      M              Bachelor   \n",
       "\n",
       "     customer_lifetime_value   income  monthly_premium_auto  \\\n",
       "1                  697953.59      0.0                  94.0   \n",
       "2                 1288743.17  48767.0                 108.0   \n",
       "3                  764586.18      0.0                 106.0   \n",
       "4                  536307.65  36357.0                  68.0   \n",
       "5                  825629.78  62902.0                  69.0   \n",
       "..                       ...      ...                   ...   \n",
       "991                847141.75  63513.0                  70.0   \n",
       "992                543121.91  58161.0                  68.0   \n",
       "993                568964.41  83640.0                  70.0   \n",
       "994                368672.38      0.0                  96.0   \n",
       "995                399258.39      0.0                 111.0   \n",
       "\n",
       "     number_of_open_complaints     policy_type  vehicle_class  \\\n",
       "1                          0.0   Personal Auto  Four-Door Car   \n",
       "2                          0.0   Personal Auto   Two-Door Car   \n",
       "3                          0.0  Corporate Auto            SUV   \n",
       "4                          0.0   Personal Auto  Four-Door Car   \n",
       "5                          0.0   Personal Auto   Two-Door Car   \n",
       "..                         ...             ...            ...   \n",
       "991                        0.0   Personal Auto  Four-Door Car   \n",
       "992                        0.0  Corporate Auto  Four-Door Car   \n",
       "993                        0.0  Corporate Auto   Two-Door Car   \n",
       "994                        0.0   Personal Auto   Two-Door Car   \n",
       "995                        0.0   Personal Auto            SUV   \n",
       "\n",
       "     total_claim_amount  \n",
       "1           1131.464935  \n",
       "2            566.472247  \n",
       "3            529.881344  \n",
       "4             17.269323  \n",
       "5            159.383042  \n",
       "..                  ...  \n",
       "991          185.667213  \n",
       "992          140.747286  \n",
       "993          471.050488  \n",
       "994           28.460568  \n",
       "995          700.349052  \n",
       "\n",
       "[1937 rows x 11 columns]"
      ]
     },
     "execution_count": 116,
     "metadata": {},
     "output_type": "execute_result"
    }
   ],
   "source": [
    "df.drop_duplicates()"
   ]
  },
  {
   "cell_type": "code",
   "execution_count": 118,
   "id": "8bd8e226-ff31-4b08-8807-c38f0ce4231c",
   "metadata": {},
   "outputs": [
    {
     "data": {
      "text/html": [
       "<div>\n",
       "<style scoped>\n",
       "    .dataframe tbody tr th:only-of-type {\n",
       "        vertical-align: middle;\n",
       "    }\n",
       "\n",
       "    .dataframe tbody tr th {\n",
       "        vertical-align: top;\n",
       "    }\n",
       "\n",
       "    .dataframe thead th {\n",
       "        text-align: right;\n",
       "    }\n",
       "</style>\n",
       "<table border=\"1\" class=\"dataframe\">\n",
       "  <thead>\n",
       "    <tr style=\"text-align: right;\">\n",
       "      <th></th>\n",
       "      <th>customer_lifetime_value</th>\n",
       "      <th>income</th>\n",
       "      <th>monthly_premium_auto</th>\n",
       "      <th>number_of_open_complaints</th>\n",
       "      <th>total_claim_amount</th>\n",
       "    </tr>\n",
       "  </thead>\n",
       "  <tbody>\n",
       "    <tr>\n",
       "      <th>count</th>\n",
       "      <td>1940.00</td>\n",
       "      <td>1940.00</td>\n",
       "      <td>1940.00</td>\n",
       "      <td>1940.00</td>\n",
       "      <td>1940.00</td>\n",
       "    </tr>\n",
       "    <tr>\n",
       "      <th>mean</th>\n",
       "      <td>780191.71</td>\n",
       "      <td>39669.59</td>\n",
       "      <td>170.73</td>\n",
       "      <td>0.26</td>\n",
       "      <td>411.80</td>\n",
       "    </tr>\n",
       "    <tr>\n",
       "      <th>std</th>\n",
       "      <td>624002.72</td>\n",
       "      <td>30475.86</td>\n",
       "      <td>1249.90</td>\n",
       "      <td>0.86</td>\n",
       "      <td>286.13</td>\n",
       "    </tr>\n",
       "    <tr>\n",
       "      <th>min</th>\n",
       "      <td>200435.07</td>\n",
       "      <td>0.00</td>\n",
       "      <td>61.00</td>\n",
       "      <td>0.00</td>\n",
       "      <td>0.38</td>\n",
       "    </tr>\n",
       "    <tr>\n",
       "      <th>25%</th>\n",
       "      <td>399236.97</td>\n",
       "      <td>15101.25</td>\n",
       "      <td>68.00</td>\n",
       "      <td>0.00</td>\n",
       "      <td>244.51</td>\n",
       "    </tr>\n",
       "    <tr>\n",
       "      <th>50%</th>\n",
       "      <td>571943.72</td>\n",
       "      <td>36595.50</td>\n",
       "      <td>82.00</td>\n",
       "      <td>0.00</td>\n",
       "      <td>350.40</td>\n",
       "    </tr>\n",
       "    <tr>\n",
       "      <th>75%</th>\n",
       "      <td>885410.45</td>\n",
       "      <td>64468.75</td>\n",
       "      <td>108.00</td>\n",
       "      <td>0.00</td>\n",
       "      <td>524.13</td>\n",
       "    </tr>\n",
       "    <tr>\n",
       "      <th>max</th>\n",
       "      <td>4922143.07</td>\n",
       "      <td>99981.00</td>\n",
       "      <td>35354.00</td>\n",
       "      <td>5.00</td>\n",
       "      <td>2893.24</td>\n",
       "    </tr>\n",
       "  </tbody>\n",
       "</table>\n",
       "</div>"
      ],
      "text/plain": [
       "       customer_lifetime_value    income  monthly_premium_auto  \\\n",
       "count                  1940.00   1940.00               1940.00   \n",
       "mean                 780191.71  39669.59                170.73   \n",
       "std                  624002.72  30475.86               1249.90   \n",
       "min                  200435.07      0.00                 61.00   \n",
       "25%                  399236.97  15101.25                 68.00   \n",
       "50%                  571943.72  36595.50                 82.00   \n",
       "75%                  885410.45  64468.75                108.00   \n",
       "max                 4922143.07  99981.00              35354.00   \n",
       "\n",
       "       number_of_open_complaints  total_claim_amount  \n",
       "count                    1940.00             1940.00  \n",
       "mean                        0.26              411.80  \n",
       "std                         0.86              286.13  \n",
       "min                         0.00                0.38  \n",
       "25%                         0.00              244.51  \n",
       "50%                         0.00              350.40  \n",
       "75%                         0.00              524.13  \n",
       "max                         5.00             2893.24  "
      ]
     },
     "execution_count": 118,
     "metadata": {},
     "output_type": "execute_result"
    }
   ],
   "source": [
    "round(df.describe(),2)"
   ]
  },
  {
   "cell_type": "markdown",
   "id": "31b8a9e7-7db9-4604-991b-ef6771603e57",
   "metadata": {
    "id": "31b8a9e7-7db9-4604-991b-ef6771603e57"
   },
   "source": [
    "# Challenge 2: Structuring Data"
   ]
  },
  {
   "cell_type": "markdown",
   "id": "a877fd6d-7a0c-46d2-9657-f25036e4ca4b",
   "metadata": {
    "id": "a877fd6d-7a0c-46d2-9657-f25036e4ca4b"
   },
   "source": [
    "In this challenge, we will continue to work with customer data from an insurance company, but we will use a dataset with more columns, called marketing_customer_analysis.csv, which can be found at the following link:\n",
    "\n",
    "https://raw.githubusercontent.com/data-bootcamp-v4/data/main/marketing_customer_analysis_clean.csv\n",
    "\n",
    "This dataset contains information such as customer demographics, policy details, vehicle information, and the customer's response to the last marketing campaign. Our goal is to explore and analyze this data by performing data cleaning, formatting, and structuring."
   ]
  },
  {
   "cell_type": "code",
   "execution_count": 125,
   "id": "aa10d9b0-1c27-4d3f-a8e4-db6ab73bfd26",
   "metadata": {
    "id": "aa10d9b0-1c27-4d3f-a8e4-db6ab73bfd26"
   },
   "outputs": [],
   "source": [
    "# Your code goes here\n",
    "import pandas as pd\n",
    "url = \"https://raw.githubusercontent.com/data-bootcamp-v4/data/main/marketing_customer_analysis_clean.csv\"\n",
    "df_marketing_customer_analysis = pd.read_csv(url)\n",
    "df_marketing_customer_analysis.columns\n",
    "df_marketing_customer_analysis.to_csv('df_marketing_customer_analysis.csv', index=False)"
   ]
  },
  {
   "cell_type": "code",
   "execution_count": 120,
   "id": "c1266f0b-a1ab-4098-9c0e-e9c411e23ef9",
   "metadata": {},
   "outputs": [
    {
     "name": "stdout",
     "output_type": "stream",
     "text": [
      "<class 'pandas.core.frame.DataFrame'>\n",
      "RangeIndex: 10910 entries, 0 to 10909\n",
      "Data columns (total 27 columns):\n",
      " #   Column                         Non-Null Count  Dtype   \n",
      "---  ------                         --------------  -----   \n",
      " 0   unnamed:_0                     10910 non-null  int64   \n",
      " 1   customer                       10910 non-null  category\n",
      " 2   state                          10910 non-null  category\n",
      " 3   customer_lifetime_value        10910 non-null  float64 \n",
      " 4   response                       10910 non-null  category\n",
      " 5   coverage                       10910 non-null  category\n",
      " 6   education                      10910 non-null  category\n",
      " 7   effective_to_date              10910 non-null  category\n",
      " 8   employmentstatus               10910 non-null  category\n",
      " 9   gender                         10910 non-null  category\n",
      " 10  income                         10910 non-null  int64   \n",
      " 11  location_code                  10910 non-null  category\n",
      " 12  marital_status                 10910 non-null  category\n",
      " 13  monthly_premium_auto           10910 non-null  int64   \n",
      " 14  months_since_last_claim        10910 non-null  float64 \n",
      " 15  months_since_policy_inception  10910 non-null  int64   \n",
      " 16  number_of_open_complaints      10910 non-null  float64 \n",
      " 17  number_of_policies             10910 non-null  int64   \n",
      " 18  policy_type                    10910 non-null  category\n",
      " 19  policy                         10910 non-null  category\n",
      " 20  renew_offer_type               10910 non-null  category\n",
      " 21  sales_channel                  10910 non-null  category\n",
      " 22  total_claim_amount             10910 non-null  float64 \n",
      " 23  vehicle_class                  10910 non-null  category\n",
      " 24  vehicle_size                   10910 non-null  category\n",
      " 25  vehicle_type                   10910 non-null  category\n",
      " 26  month                          10910 non-null  int64   \n",
      "dtypes: category(17), float64(4), int64(6)\n",
      "memory usage: 1.3 MB\n"
     ]
    }
   ],
   "source": [
    "# Correct the data types of these columns\n",
    "df_marketing_customer_analysis['customer'] = df_marketing_customer_analysis['customer'].astype('category')\n",
    "df_marketing_customer_analysis['state'] = df_marketing_customer_analysis['state'].astype('category')\n",
    "\n",
    "df_marketing_customer_analysis['response'] = df_marketing_customer_analysis['response'].astype('category')\n",
    "df_marketing_customer_analysis['coverage'] = df_marketing_customer_analysis['coverage'].astype('category')\n",
    "df_marketing_customer_analysis['education'] = df_marketing_customer_analysis['education'].astype('category')\n",
    "\n",
    "df_marketing_customer_analysis['effective_to_date'] = df_marketing_customer_analysis['effective_to_date'].astype('category')\n",
    "df_marketing_customer_analysis['employmentstatus'] = df_marketing_customer_analysis['employmentstatus'].astype('category')\n",
    "df_marketing_customer_analysis['gender'] = df_marketing_customer_analysis['gender'].astype('category')\n",
    "\n",
    "df_marketing_customer_analysis['location_code'] = df_marketing_customer_analysis['location_code'].astype('category')\n",
    "df_marketing_customer_analysis['marital_status'] = df_marketing_customer_analysis['marital_status'].astype('category')\n",
    "df_marketing_customer_analysis['policy_type'] = df_marketing_customer_analysis['policy_type'].astype('category')\n",
    "df_marketing_customer_analysis['policy'] = df_marketing_customer_analysis['policy'].astype('category')\n",
    "df_marketing_customer_analysis['renew_offer_type'] = df_marketing_customer_analysis['renew_offer_type'].astype('category')\n",
    "df_marketing_customer_analysis['sales_channel'] = df_marketing_customer_analysis['sales_channel'].astype('category')\n",
    "df_marketing_customer_analysis['vehicle_class'] = df_marketing_customer_analysis['vehicle_class'].astype('category')\n",
    "df_marketing_customer_analysis['vehicle_size'] = df_marketing_customer_analysis['vehicle_size'].astype('category')\n",
    "df_marketing_customer_analysis['vehicle_type'] = df_marketing_customer_analysis['vehicle_type'].astype('category')\n",
    "\n",
    "df_marketing_customer_analysis.info()"
   ]
  },
  {
   "cell_type": "markdown",
   "id": "a592037c-c617-46c3-aee3-8adabb61d9a3",
   "metadata": {},
   "source": [
    "##### Our goal is to explore and analyze this data by performing data cleaning, formatting, and structuring."
   ]
  },
  {
   "cell_type": "code",
   "execution_count": 10,
   "id": "1912d9d7-29fd-402d-be77-a59cfcd80659",
   "metadata": {},
   "outputs": [
    {
     "data": {
      "text/plain": [
       "unnamed:_0                       0\n",
       "customer                         0\n",
       "state                            0\n",
       "customer_lifetime_value          0\n",
       "response                         0\n",
       "coverage                         0\n",
       "education                        0\n",
       "effective_to_date                0\n",
       "employmentstatus                 0\n",
       "gender                           0\n",
       "income                           0\n",
       "location_code                    0\n",
       "marital_status                   0\n",
       "monthly_premium_auto             0\n",
       "months_since_last_claim          0\n",
       "months_since_policy_inception    0\n",
       "number_of_open_complaints        0\n",
       "number_of_policies               0\n",
       "policy_type                      0\n",
       "policy                           0\n",
       "renew_offer_type                 0\n",
       "sales_channel                    0\n",
       "total_claim_amount               0\n",
       "vehicle_class                    0\n",
       "vehicle_size                     0\n",
       "vehicle_type                     0\n",
       "month                            0\n",
       "dtype: int64"
      ]
     },
     "execution_count": 10,
     "metadata": {},
     "output_type": "execute_result"
    }
   ],
   "source": [
    "df_marketing_customer_analysis.isnull().sum()"
   ]
  },
  {
   "cell_type": "code",
   "execution_count": 11,
   "id": "027f99f5-2c11-4dc8-af17-c47f02808b38",
   "metadata": {},
   "outputs": [
    {
     "data": {
      "text/plain": [
       "0"
      ]
     },
     "execution_count": 11,
     "metadata": {},
     "output_type": "execute_result"
    }
   ],
   "source": [
    "df_marketing_customer_analysis.duplicated().sum()"
   ]
  },
  {
   "cell_type": "code",
   "execution_count": 123,
   "id": "e1c04453-5f86-4222-958f-c68e8cbd2c09",
   "metadata": {},
   "outputs": [],
   "source": [
    "df_marketing_customer_analysis.to_csv('df_marketing_customer_analysis.csv', index=False)"
   ]
  },
  {
   "cell_type": "code",
   "execution_count": 48,
   "id": "d08eeccf-8842-4ec2-b6cd-71d0c91a0207",
   "metadata": {},
   "outputs": [],
   "source": [
    "# Pivot the DataFrame to see the GDP based on the country and year\n",
    "pivot_df_income = df_marketing_customer_analysis.pivot_table(index='coverage', columns='sales_channel', values=['income'], aggfunc='sum')"
   ]
  },
  {
   "cell_type": "code",
   "execution_count": 49,
   "id": "1ad19f35-e0f5-480e-8ee6-87c69ef29745",
   "metadata": {},
   "outputs": [
    {
     "data": {
      "text/html": [
       "<div>\n",
       "<style scoped>\n",
       "    .dataframe tbody tr th:only-of-type {\n",
       "        vertical-align: middle;\n",
       "    }\n",
       "\n",
       "    .dataframe tbody tr th {\n",
       "        vertical-align: top;\n",
       "    }\n",
       "\n",
       "    .dataframe thead tr th {\n",
       "        text-align: left;\n",
       "    }\n",
       "\n",
       "    .dataframe thead tr:last-of-type th {\n",
       "        text-align: right;\n",
       "    }\n",
       "</style>\n",
       "<table border=\"1\" class=\"dataframe\">\n",
       "  <thead>\n",
       "    <tr>\n",
       "      <th></th>\n",
       "      <th colspan=\"4\" halign=\"left\">income</th>\n",
       "    </tr>\n",
       "    <tr>\n",
       "      <th>sales_channel</th>\n",
       "      <th>Agent</th>\n",
       "      <th>Branch</th>\n",
       "      <th>Call Center</th>\n",
       "      <th>Web</th>\n",
       "    </tr>\n",
       "    <tr>\n",
       "      <th>coverage</th>\n",
       "      <th></th>\n",
       "      <th></th>\n",
       "      <th></th>\n",
       "      <th></th>\n",
       "    </tr>\n",
       "  </thead>\n",
       "  <tbody>\n",
       "    <tr>\n",
       "      <th>Basic</th>\n",
       "      <td>92850525</td>\n",
       "      <td>70147997</td>\n",
       "      <td>50821981</td>\n",
       "      <td>38299109</td>\n",
       "    </tr>\n",
       "    <tr>\n",
       "      <th>Extended</th>\n",
       "      <td>45480779</td>\n",
       "      <td>32468700</td>\n",
       "      <td>22868264</td>\n",
       "      <td>18215760</td>\n",
       "    </tr>\n",
       "    <tr>\n",
       "      <th>Premium</th>\n",
       "      <td>14158848</td>\n",
       "      <td>11158911</td>\n",
       "      <td>7364759</td>\n",
       "      <td>5685234</td>\n",
       "    </tr>\n",
       "  </tbody>\n",
       "</table>\n",
       "</div>"
      ],
      "text/plain": [
       "                 income                                \n",
       "sales_channel     Agent    Branch Call Center       Web\n",
       "coverage                                               \n",
       "Basic          92850525  70147997    50821981  38299109\n",
       "Extended       45480779  32468700    22868264  18215760\n",
       "Premium        14158848  11158911     7364759   5685234"
      ]
     },
     "execution_count": 49,
     "metadata": {},
     "output_type": "execute_result"
    }
   ],
   "source": [
    "pivot_df_income"
   ]
  },
  {
   "cell_type": "code",
   "execution_count": 50,
   "id": "972e0a0c-8629-4429-9d95-5ac859b62b70",
   "metadata": {},
   "outputs": [
    {
     "data": {
      "text/html": [
       "<div>\n",
       "<style scoped>\n",
       "    .dataframe tbody tr th:only-of-type {\n",
       "        vertical-align: middle;\n",
       "    }\n",
       "\n",
       "    .dataframe tbody tr th {\n",
       "        vertical-align: top;\n",
       "    }\n",
       "\n",
       "    .dataframe thead tr th {\n",
       "        text-align: left;\n",
       "    }\n",
       "</style>\n",
       "<table border=\"1\" class=\"dataframe\">\n",
       "  <thead>\n",
       "    <tr>\n",
       "      <th></th>\n",
       "      <th colspan=\"4\" halign=\"left\">income</th>\n",
       "    </tr>\n",
       "    <tr>\n",
       "      <th>sales_channel</th>\n",
       "      <th>Agent</th>\n",
       "      <th>Branch</th>\n",
       "      <th>Call Center</th>\n",
       "      <th>Web</th>\n",
       "    </tr>\n",
       "  </thead>\n",
       "  <tbody>\n",
       "    <tr>\n",
       "      <th>count</th>\n",
       "      <td>3.00</td>\n",
       "      <td>3.00</td>\n",
       "      <td>3.00</td>\n",
       "      <td>3.00</td>\n",
       "    </tr>\n",
       "    <tr>\n",
       "      <th>mean</th>\n",
       "      <td>50830050.67</td>\n",
       "      <td>37925202.67</td>\n",
       "      <td>27018334.67</td>\n",
       "      <td>20733367.67</td>\n",
       "    </tr>\n",
       "    <tr>\n",
       "      <th>std</th>\n",
       "      <td>39617622.82</td>\n",
       "      <td>29870690.20</td>\n",
       "      <td>22023847.32</td>\n",
       "      <td>16452050.69</td>\n",
       "    </tr>\n",
       "    <tr>\n",
       "      <th>min</th>\n",
       "      <td>14158848.00</td>\n",
       "      <td>11158911.00</td>\n",
       "      <td>7364759.00</td>\n",
       "      <td>5685234.00</td>\n",
       "    </tr>\n",
       "    <tr>\n",
       "      <th>25%</th>\n",
       "      <td>29819813.50</td>\n",
       "      <td>21813805.50</td>\n",
       "      <td>15116511.50</td>\n",
       "      <td>11950497.00</td>\n",
       "    </tr>\n",
       "    <tr>\n",
       "      <th>50%</th>\n",
       "      <td>45480779.00</td>\n",
       "      <td>32468700.00</td>\n",
       "      <td>22868264.00</td>\n",
       "      <td>18215760.00</td>\n",
       "    </tr>\n",
       "    <tr>\n",
       "      <th>75%</th>\n",
       "      <td>69165652.00</td>\n",
       "      <td>51308348.50</td>\n",
       "      <td>36845122.50</td>\n",
       "      <td>28257434.50</td>\n",
       "    </tr>\n",
       "    <tr>\n",
       "      <th>max</th>\n",
       "      <td>92850525.00</td>\n",
       "      <td>70147997.00</td>\n",
       "      <td>50821981.00</td>\n",
       "      <td>38299109.00</td>\n",
       "    </tr>\n",
       "  </tbody>\n",
       "</table>\n",
       "</div>"
      ],
      "text/plain": [
       "                    income                                       \n",
       "sales_channel        Agent       Branch  Call Center          Web\n",
       "count                 3.00         3.00         3.00         3.00\n",
       "mean           50830050.67  37925202.67  27018334.67  20733367.67\n",
       "std            39617622.82  29870690.20  22023847.32  16452050.69\n",
       "min            14158848.00  11158911.00   7364759.00   5685234.00\n",
       "25%            29819813.50  21813805.50  15116511.50  11950497.00\n",
       "50%            45480779.00  32468700.00  22868264.00  18215760.00\n",
       "75%            69165652.00  51308348.50  36845122.50  28257434.50\n",
       "max            92850525.00  70147997.00  50821981.00  38299109.00"
      ]
     },
     "execution_count": 50,
     "metadata": {},
     "output_type": "execute_result"
    }
   ],
   "source": [
    "round(pivot_df_income.describe(),2)"
   ]
  },
  {
   "cell_type": "markdown",
   "id": "45fd5518-b62e-4b44-b9ac-77037bf5d21c",
   "metadata": {},
   "source": [
    "### Insights"
   ]
  },
  {
   "cell_type": "markdown",
   "id": "7a646e38-6b79-4a97-b7c8-f0366945b89b",
   "metadata": {},
   "source": [
    "##### Bigger incomes are found within Agent sell channel and the lowest income are through Web. Is important to recognize that deviations are higher through all channels."
   ]
  },
  {
   "cell_type": "markdown",
   "id": "640993b2-a291-436c-a34d-a551144f8196",
   "metadata": {
    "id": "640993b2-a291-436c-a34d-a551144f8196"
   },
   "source": [
    "2. Create a pivot table that shows the average customer lifetime value per gender and education level. Analyze the resulting table to draw insights."
   ]
  },
  {
   "cell_type": "code",
   "execution_count": 51,
   "id": "35990bc0-6bbb-45f6-b8d9-a667eb832a88",
   "metadata": {},
   "outputs": [],
   "source": [
    "# Pivot the DataFrame to see the GDP based on the country and year\n",
    "pivot_df_gender = df_marketing_customer_analysis.pivot_table(index='gender', columns='education', values=['customer_lifetime_value'], aggfunc='sum')"
   ]
  },
  {
   "cell_type": "code",
   "execution_count": 57,
   "id": "0fd1ad20-c7bf-444f-ac7f-f14948950cf2",
   "metadata": {},
   "outputs": [
    {
     "data": {
      "text/html": [
       "<div>\n",
       "<style scoped>\n",
       "    .dataframe tbody tr th:only-of-type {\n",
       "        vertical-align: middle;\n",
       "    }\n",
       "\n",
       "    .dataframe tbody tr th {\n",
       "        vertical-align: top;\n",
       "    }\n",
       "\n",
       "    .dataframe thead tr th {\n",
       "        text-align: left;\n",
       "    }\n",
       "\n",
       "    .dataframe thead tr:last-of-type th {\n",
       "        text-align: right;\n",
       "    }\n",
       "</style>\n",
       "<table border=\"1\" class=\"dataframe\">\n",
       "  <thead>\n",
       "    <tr>\n",
       "      <th></th>\n",
       "      <th colspan=\"5\" halign=\"left\">customer_lifetime_value</th>\n",
       "    </tr>\n",
       "    <tr>\n",
       "      <th>education</th>\n",
       "      <th>Bachelor</th>\n",
       "      <th>College</th>\n",
       "      <th>Doctor</th>\n",
       "      <th>High School or Below</th>\n",
       "      <th>Master</th>\n",
       "    </tr>\n",
       "    <tr>\n",
       "      <th>gender</th>\n",
       "      <th></th>\n",
       "      <th></th>\n",
       "      <th></th>\n",
       "      <th></th>\n",
       "      <th></th>\n",
       "    </tr>\n",
       "  </thead>\n",
       "  <tbody>\n",
       "    <tr>\n",
       "      <th>F</th>\n",
       "      <td>13386258.11</td>\n",
       "      <td>12460107.91</td>\n",
       "      <td>1465701.78</td>\n",
       "      <td>13793600.12</td>\n",
       "      <td>3874600.25</td>\n",
       "    </tr>\n",
       "    <tr>\n",
       "      <th>M</th>\n",
       "      <td>12110061.83</td>\n",
       "      <td>12851725.02</td>\n",
       "      <td>1490482.06</td>\n",
       "      <td>12680914.19</td>\n",
       "      <td>3365559.06</td>\n",
       "    </tr>\n",
       "  </tbody>\n",
       "</table>\n",
       "</div>"
      ],
      "text/plain": [
       "          customer_lifetime_value                           \\\n",
       "education                Bachelor      College      Doctor   \n",
       "gender                                                       \n",
       "F                     13386258.11  12460107.91  1465701.78   \n",
       "M                     12110061.83  12851725.02  1490482.06   \n",
       "\n",
       "                                            \n",
       "education High School or Below      Master  \n",
       "gender                                      \n",
       "F                  13793600.12  3874600.25  \n",
       "M                  12680914.19  3365559.06  "
      ]
     },
     "execution_count": 57,
     "metadata": {},
     "output_type": "execute_result"
    }
   ],
   "source": [
    "round(pivot_df_gender,2)"
   ]
  },
  {
   "cell_type": "code",
   "execution_count": 54,
   "id": "29a62f1a-0e5a-44d1-89bc-2cc986084dc4",
   "metadata": {},
   "outputs": [
    {
     "data": {
      "text/html": [
       "<div>\n",
       "<style scoped>\n",
       "    .dataframe tbody tr th:only-of-type {\n",
       "        vertical-align: middle;\n",
       "    }\n",
       "\n",
       "    .dataframe tbody tr th {\n",
       "        vertical-align: top;\n",
       "    }\n",
       "\n",
       "    .dataframe thead tr th {\n",
       "        text-align: left;\n",
       "    }\n",
       "</style>\n",
       "<table border=\"1\" class=\"dataframe\">\n",
       "  <thead>\n",
       "    <tr>\n",
       "      <th></th>\n",
       "      <th colspan=\"5\" halign=\"left\">customer_lifetime_value</th>\n",
       "    </tr>\n",
       "    <tr>\n",
       "      <th>education</th>\n",
       "      <th>Bachelor</th>\n",
       "      <th>College</th>\n",
       "      <th>Doctor</th>\n",
       "      <th>High School or Below</th>\n",
       "      <th>Master</th>\n",
       "    </tr>\n",
       "  </thead>\n",
       "  <tbody>\n",
       "    <tr>\n",
       "      <th>count</th>\n",
       "      <td>2.00</td>\n",
       "      <td>2.00</td>\n",
       "      <td>2.00</td>\n",
       "      <td>2.00</td>\n",
       "      <td>2.00</td>\n",
       "    </tr>\n",
       "    <tr>\n",
       "      <th>mean</th>\n",
       "      <td>12748159.97</td>\n",
       "      <td>12655916.46</td>\n",
       "      <td>1478091.92</td>\n",
       "      <td>13237257.15</td>\n",
       "      <td>3620079.65</td>\n",
       "    </tr>\n",
       "    <tr>\n",
       "      <th>std</th>\n",
       "      <td>902407.04</td>\n",
       "      <td>276915.12</td>\n",
       "      <td>17522.30</td>\n",
       "      <td>786787.77</td>\n",
       "      <td>359946.48</td>\n",
       "    </tr>\n",
       "    <tr>\n",
       "      <th>min</th>\n",
       "      <td>12110061.83</td>\n",
       "      <td>12460107.91</td>\n",
       "      <td>1465701.78</td>\n",
       "      <td>12680914.19</td>\n",
       "      <td>3365559.06</td>\n",
       "    </tr>\n",
       "    <tr>\n",
       "      <th>25%</th>\n",
       "      <td>12429110.90</td>\n",
       "      <td>12558012.19</td>\n",
       "      <td>1471896.85</td>\n",
       "      <td>12959085.67</td>\n",
       "      <td>3492819.35</td>\n",
       "    </tr>\n",
       "    <tr>\n",
       "      <th>50%</th>\n",
       "      <td>12748159.97</td>\n",
       "      <td>12655916.46</td>\n",
       "      <td>1478091.92</td>\n",
       "      <td>13237257.15</td>\n",
       "      <td>3620079.65</td>\n",
       "    </tr>\n",
       "    <tr>\n",
       "      <th>75%</th>\n",
       "      <td>13067209.04</td>\n",
       "      <td>12753820.74</td>\n",
       "      <td>1484286.99</td>\n",
       "      <td>13515428.64</td>\n",
       "      <td>3747339.95</td>\n",
       "    </tr>\n",
       "    <tr>\n",
       "      <th>max</th>\n",
       "      <td>13386258.11</td>\n",
       "      <td>12851725.02</td>\n",
       "      <td>1490482.06</td>\n",
       "      <td>13793600.12</td>\n",
       "      <td>3874600.25</td>\n",
       "    </tr>\n",
       "  </tbody>\n",
       "</table>\n",
       "</div>"
      ],
      "text/plain": [
       "          customer_lifetime_value                           \\\n",
       "education                Bachelor      College      Doctor   \n",
       "count                        2.00         2.00        2.00   \n",
       "mean                  12748159.97  12655916.46  1478091.92   \n",
       "std                     902407.04    276915.12    17522.30   \n",
       "min                   12110061.83  12460107.91  1465701.78   \n",
       "25%                   12429110.90  12558012.19  1471896.85   \n",
       "50%                   12748159.97  12655916.46  1478091.92   \n",
       "75%                   13067209.04  12753820.74  1484286.99   \n",
       "max                   13386258.11  12851725.02  1490482.06   \n",
       "\n",
       "                                            \n",
       "education High School or Below      Master  \n",
       "count                     2.00        2.00  \n",
       "mean               13237257.15  3620079.65  \n",
       "std                  786787.77   359946.48  \n",
       "min                12680914.19  3365559.06  \n",
       "25%                12959085.67  3492819.35  \n",
       "50%                13237257.15  3620079.65  \n",
       "75%                13515428.64  3747339.95  \n",
       "max                13793600.12  3874600.25  "
      ]
     },
     "execution_count": 54,
     "metadata": {},
     "output_type": "execute_result"
    }
   ],
   "source": [
    "round(pivot_df_gender.describe(),2)"
   ]
  },
  {
   "cell_type": "markdown",
   "id": "48a0f29a-15fa-451b-827c-82c936f7f578",
   "metadata": {},
   "source": [
    "### Insights"
   ]
  },
  {
   "cell_type": "markdown",
   "id": "db50ad55-21a2-40e2-be09-44d673cad95e",
   "metadata": {},
   "source": [
    "##### Most of female customer have better lifetime customer values"
   ]
  },
  {
   "cell_type": "markdown",
   "id": "32c7f2e5-3d90-43e5-be33-9781b6069198",
   "metadata": {
    "id": "32c7f2e5-3d90-43e5-be33-9781b6069198"
   },
   "source": [
    "## Bonus\n",
    "\n",
    "You work at the customer service department and you want to know which months had the highest number of complaints by policy type category. Create a summary table showing the number of complaints by policy type and month.\n",
    "Show it in a long format table."
   ]
  },
  {
   "cell_type": "markdown",
   "id": "e3d09a8f-953c-448a-a5f8-2e5a8cca7291",
   "metadata": {
    "id": "e3d09a8f-953c-448a-a5f8-2e5a8cca7291"
   },
   "source": [
    "*In data analysis, a long format table is a way of structuring data in which each observation or measurement is stored in a separate row of the table. The key characteristic of a long format table is that each column represents a single variable, and each row represents a single observation of that variable.*\n",
    "\n",
    "*More information about long and wide format tables here: https://www.statology.org/long-vs-wide-data/*"
   ]
  },
  {
   "cell_type": "code",
   "execution_count": null,
   "id": "3a069e0b-b400-470e-904d-d17582191be4",
   "metadata": {
    "id": "3a069e0b-b400-470e-904d-d17582191be4"
   },
   "outputs": [],
   "source": [
    "# Your code goes here"
   ]
  }
 ],
 "metadata": {
  "colab": {
   "provenance": []
  },
  "kernelspec": {
   "display_name": "Python 3 (ipykernel)",
   "language": "python",
   "name": "python3"
  },
  "language_info": {
   "codemirror_mode": {
    "name": "ipython",
    "version": 3
   },
   "file_extension": ".py",
   "mimetype": "text/x-python",
   "name": "python",
   "nbconvert_exporter": "python",
   "pygments_lexer": "ipython3",
   "version": "3.11.7"
  }
 },
 "nbformat": 4,
 "nbformat_minor": 5
}
